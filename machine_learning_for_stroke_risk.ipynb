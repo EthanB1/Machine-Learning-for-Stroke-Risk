{
 "cells": [
  {
   "cell_type": "code",
   "execution_count": 240,
   "id": "ebebda3c-0b1d-4c33-a509-d4f0c4f42c06",
   "metadata": {},
   "outputs": [],
   "source": [
    "# Import libraries and dependencies\n",
    "import pandas as pd\n",
    "import numpy as np\n",
    "from pathlib import Path\n",
    "import hvplot.pandas\n",
    "import matplotlib.pyplot as plt"
   ]
  },
  {
   "cell_type": "code",
   "execution_count": 241,
   "id": "7b430633-35c7-4568-a5a5-e49a73170e84",
   "metadata": {},
   "outputs": [
    {
     "data": {
      "text/html": [
       "<div>\n",
       "<style scoped>\n",
       "    .dataframe tbody tr th:only-of-type {\n",
       "        vertical-align: middle;\n",
       "    }\n",
       "\n",
       "    .dataframe tbody tr th {\n",
       "        vertical-align: top;\n",
       "    }\n",
       "\n",
       "    .dataframe thead th {\n",
       "        text-align: right;\n",
       "    }\n",
       "</style>\n",
       "<table border=\"1\" class=\"dataframe\">\n",
       "  <thead>\n",
       "    <tr style=\"text-align: right;\">\n",
       "      <th></th>\n",
       "      <th>id</th>\n",
       "      <th>gender</th>\n",
       "      <th>age</th>\n",
       "      <th>hypertension</th>\n",
       "      <th>heart_disease</th>\n",
       "      <th>ever_married</th>\n",
       "      <th>work_type</th>\n",
       "      <th>Residence_type</th>\n",
       "      <th>avg_glucose_level</th>\n",
       "      <th>bmi</th>\n",
       "      <th>smoking_status</th>\n",
       "      <th>stroke</th>\n",
       "    </tr>\n",
       "  </thead>\n",
       "  <tbody>\n",
       "    <tr>\n",
       "      <th>0</th>\n",
       "      <td>9046</td>\n",
       "      <td>Male</td>\n",
       "      <td>67.0</td>\n",
       "      <td>0</td>\n",
       "      <td>1</td>\n",
       "      <td>Yes</td>\n",
       "      <td>Private</td>\n",
       "      <td>Urban</td>\n",
       "      <td>228.69</td>\n",
       "      <td>36.6</td>\n",
       "      <td>formerly smoked</td>\n",
       "      <td>1</td>\n",
       "    </tr>\n",
       "    <tr>\n",
       "      <th>1</th>\n",
       "      <td>51676</td>\n",
       "      <td>Female</td>\n",
       "      <td>61.0</td>\n",
       "      <td>0</td>\n",
       "      <td>0</td>\n",
       "      <td>Yes</td>\n",
       "      <td>Self-employed</td>\n",
       "      <td>Rural</td>\n",
       "      <td>202.21</td>\n",
       "      <td>NaN</td>\n",
       "      <td>never smoked</td>\n",
       "      <td>1</td>\n",
       "    </tr>\n",
       "    <tr>\n",
       "      <th>2</th>\n",
       "      <td>31112</td>\n",
       "      <td>Male</td>\n",
       "      <td>80.0</td>\n",
       "      <td>0</td>\n",
       "      <td>1</td>\n",
       "      <td>Yes</td>\n",
       "      <td>Private</td>\n",
       "      <td>Rural</td>\n",
       "      <td>105.92</td>\n",
       "      <td>32.5</td>\n",
       "      <td>never smoked</td>\n",
       "      <td>1</td>\n",
       "    </tr>\n",
       "    <tr>\n",
       "      <th>3</th>\n",
       "      <td>60182</td>\n",
       "      <td>Female</td>\n",
       "      <td>49.0</td>\n",
       "      <td>0</td>\n",
       "      <td>0</td>\n",
       "      <td>Yes</td>\n",
       "      <td>Private</td>\n",
       "      <td>Urban</td>\n",
       "      <td>171.23</td>\n",
       "      <td>34.4</td>\n",
       "      <td>smokes</td>\n",
       "      <td>1</td>\n",
       "    </tr>\n",
       "    <tr>\n",
       "      <th>4</th>\n",
       "      <td>1665</td>\n",
       "      <td>Female</td>\n",
       "      <td>79.0</td>\n",
       "      <td>1</td>\n",
       "      <td>0</td>\n",
       "      <td>Yes</td>\n",
       "      <td>Self-employed</td>\n",
       "      <td>Rural</td>\n",
       "      <td>174.12</td>\n",
       "      <td>24.0</td>\n",
       "      <td>never smoked</td>\n",
       "      <td>1</td>\n",
       "    </tr>\n",
       "  </tbody>\n",
       "</table>\n",
       "</div>"
      ],
      "text/plain": [
       "      id  gender   age  hypertension  heart_disease ever_married  \\\n",
       "0   9046    Male  67.0             0              1          Yes   \n",
       "1  51676  Female  61.0             0              0          Yes   \n",
       "2  31112    Male  80.0             0              1          Yes   \n",
       "3  60182  Female  49.0             0              0          Yes   \n",
       "4   1665  Female  79.0             1              0          Yes   \n",
       "\n",
       "       work_type Residence_type  avg_glucose_level   bmi   smoking_status  \\\n",
       "0        Private          Urban             228.69  36.6  formerly smoked   \n",
       "1  Self-employed          Rural             202.21   NaN     never smoked   \n",
       "2        Private          Rural             105.92  32.5     never smoked   \n",
       "3        Private          Urban             171.23  34.4           smokes   \n",
       "4  Self-employed          Rural             174.12  24.0     never smoked   \n",
       "\n",
       "   stroke  \n",
       "0       1  \n",
       "1       1  \n",
       "2       1  \n",
       "3       1  \n",
       "4       1  "
      ]
     },
     "execution_count": 241,
     "metadata": {},
     "output_type": "execute_result"
    }
   ],
   "source": [
    "# Import the healthcare dataset into a Pandas Dataframe\n",
    "healthcare_df = pd.read_csv(Path(\"./Resources/healthcare-dataset-stroke-data.csv\"))\n",
    "\n",
    "# Review the DataFrame\n",
    "healthcare_df.head()"
   ]
  },
  {
   "cell_type": "code",
   "execution_count": 242,
   "id": "2e5f790b-e0d9-4782-bca9-504e1bdaf52a",
   "metadata": {},
   "outputs": [],
   "source": [
    "# Drop the ;id' column\n",
    "healthcare_df = healthcare_df.drop(['id'],axis=1)"
   ]
  },
  {
   "cell_type": "code",
   "execution_count": 243,
   "id": "f28d9a20-a555-4220-acd0-2b26416c3eb7",
   "metadata": {},
   "outputs": [
    {
     "data": {
      "text/plain": [
       "gender                 0\n",
       "age                    0\n",
       "hypertension           0\n",
       "heart_disease          0\n",
       "ever_married           0\n",
       "work_type              0\n",
       "Residence_type         0\n",
       "avg_glucose_level      0\n",
       "bmi                  201\n",
       "smoking_status         0\n",
       "stroke                 0\n",
       "dtype: int64"
      ]
     },
     "execution_count": 243,
     "metadata": {},
     "output_type": "execute_result"
    }
   ],
   "source": [
    "# Checking for null values\n",
    "healthcare_df.isnull().sum()"
   ]
  },
  {
   "cell_type": "code",
   "execution_count": 244,
   "id": "039ceeaf-82a7-4d13-8c78-9d3df4f2c665",
   "metadata": {},
   "outputs": [
    {
     "data": {
      "text/plain": [
       "28.893236911794666"
      ]
     },
     "execution_count": 244,
     "metadata": {},
     "output_type": "execute_result"
    }
   ],
   "source": [
    "# Determine mean value for BMI\n",
    "healthcare_df['bmi'].mean()"
   ]
  },
  {
   "cell_type": "code",
   "execution_count": 245,
   "id": "f50380a4-c712-4461-a24f-144a38c61201",
   "metadata": {},
   "outputs": [
    {
     "data": {
      "text/html": [
       "<div>\n",
       "<style scoped>\n",
       "    .dataframe tbody tr th:only-of-type {\n",
       "        vertical-align: middle;\n",
       "    }\n",
       "\n",
       "    .dataframe tbody tr th {\n",
       "        vertical-align: top;\n",
       "    }\n",
       "\n",
       "    .dataframe thead th {\n",
       "        text-align: right;\n",
       "    }\n",
       "</style>\n",
       "<table border=\"1\" class=\"dataframe\">\n",
       "  <thead>\n",
       "    <tr style=\"text-align: right;\">\n",
       "      <th></th>\n",
       "      <th>gender</th>\n",
       "      <th>age</th>\n",
       "      <th>hypertension</th>\n",
       "      <th>heart_disease</th>\n",
       "      <th>ever_married</th>\n",
       "      <th>work_type</th>\n",
       "      <th>Residence_type</th>\n",
       "      <th>avg_glucose_level</th>\n",
       "      <th>bmi</th>\n",
       "      <th>smoking_status</th>\n",
       "      <th>stroke</th>\n",
       "    </tr>\n",
       "  </thead>\n",
       "  <tbody>\n",
       "    <tr>\n",
       "      <th>0</th>\n",
       "      <td>Male</td>\n",
       "      <td>67.0</td>\n",
       "      <td>0</td>\n",
       "      <td>1</td>\n",
       "      <td>Yes</td>\n",
       "      <td>Private</td>\n",
       "      <td>Urban</td>\n",
       "      <td>228.69</td>\n",
       "      <td>36.600000</td>\n",
       "      <td>formerly smoked</td>\n",
       "      <td>1</td>\n",
       "    </tr>\n",
       "    <tr>\n",
       "      <th>1</th>\n",
       "      <td>Female</td>\n",
       "      <td>61.0</td>\n",
       "      <td>0</td>\n",
       "      <td>0</td>\n",
       "      <td>Yes</td>\n",
       "      <td>Self-employed</td>\n",
       "      <td>Rural</td>\n",
       "      <td>202.21</td>\n",
       "      <td>28.893237</td>\n",
       "      <td>never smoked</td>\n",
       "      <td>1</td>\n",
       "    </tr>\n",
       "    <tr>\n",
       "      <th>2</th>\n",
       "      <td>Male</td>\n",
       "      <td>80.0</td>\n",
       "      <td>0</td>\n",
       "      <td>1</td>\n",
       "      <td>Yes</td>\n",
       "      <td>Private</td>\n",
       "      <td>Rural</td>\n",
       "      <td>105.92</td>\n",
       "      <td>32.500000</td>\n",
       "      <td>never smoked</td>\n",
       "      <td>1</td>\n",
       "    </tr>\n",
       "    <tr>\n",
       "      <th>3</th>\n",
       "      <td>Female</td>\n",
       "      <td>49.0</td>\n",
       "      <td>0</td>\n",
       "      <td>0</td>\n",
       "      <td>Yes</td>\n",
       "      <td>Private</td>\n",
       "      <td>Urban</td>\n",
       "      <td>171.23</td>\n",
       "      <td>34.400000</td>\n",
       "      <td>smokes</td>\n",
       "      <td>1</td>\n",
       "    </tr>\n",
       "    <tr>\n",
       "      <th>4</th>\n",
       "      <td>Female</td>\n",
       "      <td>79.0</td>\n",
       "      <td>1</td>\n",
       "      <td>0</td>\n",
       "      <td>Yes</td>\n",
       "      <td>Self-employed</td>\n",
       "      <td>Rural</td>\n",
       "      <td>174.12</td>\n",
       "      <td>24.000000</td>\n",
       "      <td>never smoked</td>\n",
       "      <td>1</td>\n",
       "    </tr>\n",
       "  </tbody>\n",
       "</table>\n",
       "</div>"
      ],
      "text/plain": [
       "   gender   age  hypertension  heart_disease ever_married      work_type  \\\n",
       "0    Male  67.0             0              1          Yes        Private   \n",
       "1  Female  61.0             0              0          Yes  Self-employed   \n",
       "2    Male  80.0             0              1          Yes        Private   \n",
       "3  Female  49.0             0              0          Yes        Private   \n",
       "4  Female  79.0             1              0          Yes  Self-employed   \n",
       "\n",
       "  Residence_type  avg_glucose_level        bmi   smoking_status  stroke  \n",
       "0          Urban             228.69  36.600000  formerly smoked       1  \n",
       "1          Rural             202.21  28.893237     never smoked       1  \n",
       "2          Rural             105.92  32.500000     never smoked       1  \n",
       "3          Urban             171.23  34.400000           smokes       1  \n",
       "4          Rural             174.12  24.000000     never smoked       1  "
      ]
     },
     "execution_count": 245,
     "metadata": {},
     "output_type": "execute_result"
    }
   ],
   "source": [
    "# filling the Nan value in bmi colum with mean value \n",
    "healthcare_df = healthcare_df.fillna(healthcare_df['bmi'].mean())\n",
    "healthcare_df.head()"
   ]
  },
  {
   "cell_type": "code",
   "execution_count": 246,
   "id": "eb34b203-80d4-4dc2-a086-feb90fb51430",
   "metadata": {},
   "outputs": [
    {
     "data": {
      "text/html": [
       "<div>\n",
       "<style scoped>\n",
       "    .dataframe tbody tr th:only-of-type {\n",
       "        vertical-align: middle;\n",
       "    }\n",
       "\n",
       "    .dataframe tbody tr th {\n",
       "        vertical-align: top;\n",
       "    }\n",
       "\n",
       "    .dataframe thead th {\n",
       "        text-align: right;\n",
       "    }\n",
       "</style>\n",
       "<table border=\"1\" class=\"dataframe\">\n",
       "  <thead>\n",
       "    <tr style=\"text-align: right;\">\n",
       "      <th></th>\n",
       "      <th>gender</th>\n",
       "      <th>age</th>\n",
       "      <th>hypertension</th>\n",
       "      <th>heart_disease</th>\n",
       "      <th>ever_married</th>\n",
       "      <th>work_type</th>\n",
       "      <th>Residence_type</th>\n",
       "      <th>avg_glucose_level</th>\n",
       "      <th>bmi</th>\n",
       "      <th>smoking_status</th>\n",
       "      <th>stroke</th>\n",
       "      <th>number_of_risks</th>\n",
       "    </tr>\n",
       "  </thead>\n",
       "  <tbody>\n",
       "    <tr>\n",
       "      <th>0</th>\n",
       "      <td>Male</td>\n",
       "      <td>67.0</td>\n",
       "      <td>0</td>\n",
       "      <td>1</td>\n",
       "      <td>Yes</td>\n",
       "      <td>Private</td>\n",
       "      <td>Urban</td>\n",
       "      <td>228.69</td>\n",
       "      <td>36.600000</td>\n",
       "      <td>formerly smoked</td>\n",
       "      <td>1</td>\n",
       "      <td>4</td>\n",
       "    </tr>\n",
       "    <tr>\n",
       "      <th>1</th>\n",
       "      <td>Female</td>\n",
       "      <td>61.0</td>\n",
       "      <td>0</td>\n",
       "      <td>0</td>\n",
       "      <td>Yes</td>\n",
       "      <td>Self-employed</td>\n",
       "      <td>Rural</td>\n",
       "      <td>202.21</td>\n",
       "      <td>28.893237</td>\n",
       "      <td>never smoked</td>\n",
       "      <td>1</td>\n",
       "      <td>2</td>\n",
       "    </tr>\n",
       "    <tr>\n",
       "      <th>2</th>\n",
       "      <td>Male</td>\n",
       "      <td>80.0</td>\n",
       "      <td>0</td>\n",
       "      <td>1</td>\n",
       "      <td>Yes</td>\n",
       "      <td>Private</td>\n",
       "      <td>Rural</td>\n",
       "      <td>105.92</td>\n",
       "      <td>32.500000</td>\n",
       "      <td>never smoked</td>\n",
       "      <td>1</td>\n",
       "      <td>2</td>\n",
       "    </tr>\n",
       "    <tr>\n",
       "      <th>3</th>\n",
       "      <td>Female</td>\n",
       "      <td>49.0</td>\n",
       "      <td>0</td>\n",
       "      <td>0</td>\n",
       "      <td>Yes</td>\n",
       "      <td>Private</td>\n",
       "      <td>Urban</td>\n",
       "      <td>171.23</td>\n",
       "      <td>34.400000</td>\n",
       "      <td>smokes</td>\n",
       "      <td>1</td>\n",
       "      <td>3</td>\n",
       "    </tr>\n",
       "    <tr>\n",
       "      <th>4</th>\n",
       "      <td>Female</td>\n",
       "      <td>79.0</td>\n",
       "      <td>1</td>\n",
       "      <td>0</td>\n",
       "      <td>Yes</td>\n",
       "      <td>Self-employed</td>\n",
       "      <td>Rural</td>\n",
       "      <td>174.12</td>\n",
       "      <td>24.000000</td>\n",
       "      <td>never smoked</td>\n",
       "      <td>1</td>\n",
       "      <td>2</td>\n",
       "    </tr>\n",
       "  </tbody>\n",
       "</table>\n",
       "</div>"
      ],
      "text/plain": [
       "   gender   age  hypertension  heart_disease ever_married      work_type  \\\n",
       "0    Male  67.0             0              1          Yes        Private   \n",
       "1  Female  61.0             0              0          Yes  Self-employed   \n",
       "2    Male  80.0             0              1          Yes        Private   \n",
       "3  Female  49.0             0              0          Yes        Private   \n",
       "4  Female  79.0             1              0          Yes  Self-employed   \n",
       "\n",
       "  Residence_type  avg_glucose_level        bmi   smoking_status  stroke  \\\n",
       "0          Urban             228.69  36.600000  formerly smoked       1   \n",
       "1          Rural             202.21  28.893237     never smoked       1   \n",
       "2          Rural             105.92  32.500000     never smoked       1   \n",
       "3          Urban             171.23  34.400000           smokes       1   \n",
       "4          Rural             174.12  24.000000     never smoked       1   \n",
       "\n",
       "   number_of_risks  \n",
       "0                4  \n",
       "1                2  \n",
       "2                2  \n",
       "3                3  \n",
       "4                2  "
      ]
     },
     "execution_count": 246,
     "metadata": {},
     "output_type": "execute_result"
    }
   ],
   "source": [
    "# Add a feature for the 'number of risks'\n",
    "number_of_risks = []\n",
    "\n",
    "for index, row in healthcare_df.iterrows():\n",
    "    counter=0\n",
    "    if row['avg_glucose_level'] >= 140:\n",
    "        counter+=1\n",
    "    if row['heart_disease']==1:\n",
    "        counter+=1\n",
    "    if row['hypertension']==1:\n",
    "        counter+=1\n",
    "    if row['smoking_status']=='smokes' or row['smoking_status']=='formerly smoked':\n",
    "        counter+=1\n",
    "    if row['bmi']>25:\n",
    "        counter+=1\n",
    "        \n",
    "    number_of_risks.append(counter)\n",
    "\n",
    "healthcare_df[\"number_of_risks\"]= number_of_risks\n",
    "\n",
    "healthcare_df.head()"
   ]
  },
  {
   "cell_type": "code",
   "execution_count": 247,
   "id": "21817163-59be-4d35-bafb-0bf5d8f25d8a",
   "metadata": {},
   "outputs": [],
   "source": [
    "#convert categorical data\n",
    "#create encoder instance\n",
    "from sklearn.preprocessing import OneHotEncoder\n",
    "enc = OneHotEncoder(sparse_output=False)"
   ]
  },
  {
   "cell_type": "code",
   "execution_count": 248,
   "id": "1fb2a3ba-1b75-493b-a43d-5e26dffa87bb",
   "metadata": {},
   "outputs": [
    {
     "name": "stdout",
     "output_type": "stream",
     "text": [
      "<class 'pandas.core.frame.DataFrame'>\n",
      "RangeIndex: 5110 entries, 0 to 5109\n",
      "Data columns (total 12 columns):\n",
      " #   Column             Non-Null Count  Dtype  \n",
      "---  ------             --------------  -----  \n",
      " 0   gender             5110 non-null   object \n",
      " 1   age                5110 non-null   float64\n",
      " 2   hypertension       5110 non-null   int64  \n",
      " 3   heart_disease      5110 non-null   int64  \n",
      " 4   ever_married       5110 non-null   object \n",
      " 5   work_type          5110 non-null   object \n",
      " 6   Residence_type     5110 non-null   object \n",
      " 7   avg_glucose_level  5110 non-null   float64\n",
      " 8   bmi                5110 non-null   float64\n",
      " 9   smoking_status     5110 non-null   object \n",
      " 10  stroke             5110 non-null   int64  \n",
      " 11  number_of_risks    5110 non-null   int64  \n",
      "dtypes: float64(3), int64(4), object(5)\n",
      "memory usage: 479.2+ KB\n"
     ]
    }
   ],
   "source": [
    "healthcare_df.info()"
   ]
  },
  {
   "cell_type": "code",
   "execution_count": 249,
   "id": "a1ec0b8a-9d3c-4906-8d80-da3f85b84e30",
   "metadata": {},
   "outputs": [
    {
     "data": {
      "text/plain": [
       "['gender', 'ever_married', 'work_type', 'Residence_type', 'smoking_status']"
      ]
     },
     "execution_count": 249,
     "metadata": {},
     "output_type": "execute_result"
    }
   ],
   "source": [
    "list(healthcare_df.dtypes[healthcare_df.dtypes == \"object\"].index)"
   ]
  },
  {
   "cell_type": "code",
   "execution_count": 250,
   "id": "2db99122-17c4-4fd3-8f45-a8f5affce1a0",
   "metadata": {},
   "outputs": [],
   "source": [
    "# Create a list of the columns with categorical variables\n",
    "categorical_variables = ['gender', 'ever_married', 'work_type', 'Residence_type', 'smoking_status', 'number_of_risks']\n",
    "\n",
    "# Use the fit_transform method from the OneHotEncoder to encode the data\n",
    "encoded_data = enc.fit_transform(healthcare_df[categorical_variables])"
   ]
  },
  {
   "cell_type": "code",
   "execution_count": 251,
   "id": "3ac135f3-3d7e-4b99-8ff1-40cb2730a241",
   "metadata": {},
   "outputs": [
    {
     "data": {
      "text/html": [
       "<div>\n",
       "<style scoped>\n",
       "    .dataframe tbody tr th:only-of-type {\n",
       "        vertical-align: middle;\n",
       "    }\n",
       "\n",
       "    .dataframe tbody tr th {\n",
       "        vertical-align: top;\n",
       "    }\n",
       "\n",
       "    .dataframe thead th {\n",
       "        text-align: right;\n",
       "    }\n",
       "</style>\n",
       "<table border=\"1\" class=\"dataframe\">\n",
       "  <thead>\n",
       "    <tr style=\"text-align: right;\">\n",
       "      <th></th>\n",
       "      <th>gender_Female</th>\n",
       "      <th>gender_Male</th>\n",
       "      <th>gender_Other</th>\n",
       "      <th>ever_married_No</th>\n",
       "      <th>ever_married_Yes</th>\n",
       "      <th>work_type_Govt_job</th>\n",
       "      <th>work_type_Never_worked</th>\n",
       "      <th>work_type_Private</th>\n",
       "      <th>work_type_Self-employed</th>\n",
       "      <th>work_type_children</th>\n",
       "      <th>...</th>\n",
       "      <th>smoking_status_Unknown</th>\n",
       "      <th>smoking_status_formerly smoked</th>\n",
       "      <th>smoking_status_never smoked</th>\n",
       "      <th>smoking_status_smokes</th>\n",
       "      <th>number_of_risks_0</th>\n",
       "      <th>number_of_risks_1</th>\n",
       "      <th>number_of_risks_2</th>\n",
       "      <th>number_of_risks_3</th>\n",
       "      <th>number_of_risks_4</th>\n",
       "      <th>number_of_risks_5</th>\n",
       "    </tr>\n",
       "  </thead>\n",
       "  <tbody>\n",
       "    <tr>\n",
       "      <th>0</th>\n",
       "      <td>0.0</td>\n",
       "      <td>1.0</td>\n",
       "      <td>0.0</td>\n",
       "      <td>0.0</td>\n",
       "      <td>1.0</td>\n",
       "      <td>0.0</td>\n",
       "      <td>0.0</td>\n",
       "      <td>1.0</td>\n",
       "      <td>0.0</td>\n",
       "      <td>0.0</td>\n",
       "      <td>...</td>\n",
       "      <td>0.0</td>\n",
       "      <td>1.0</td>\n",
       "      <td>0.0</td>\n",
       "      <td>0.0</td>\n",
       "      <td>0.0</td>\n",
       "      <td>0.0</td>\n",
       "      <td>0.0</td>\n",
       "      <td>0.0</td>\n",
       "      <td>1.0</td>\n",
       "      <td>0.0</td>\n",
       "    </tr>\n",
       "    <tr>\n",
       "      <th>1</th>\n",
       "      <td>1.0</td>\n",
       "      <td>0.0</td>\n",
       "      <td>0.0</td>\n",
       "      <td>0.0</td>\n",
       "      <td>1.0</td>\n",
       "      <td>0.0</td>\n",
       "      <td>0.0</td>\n",
       "      <td>0.0</td>\n",
       "      <td>1.0</td>\n",
       "      <td>0.0</td>\n",
       "      <td>...</td>\n",
       "      <td>0.0</td>\n",
       "      <td>0.0</td>\n",
       "      <td>1.0</td>\n",
       "      <td>0.0</td>\n",
       "      <td>0.0</td>\n",
       "      <td>0.0</td>\n",
       "      <td>1.0</td>\n",
       "      <td>0.0</td>\n",
       "      <td>0.0</td>\n",
       "      <td>0.0</td>\n",
       "    </tr>\n",
       "    <tr>\n",
       "      <th>2</th>\n",
       "      <td>0.0</td>\n",
       "      <td>1.0</td>\n",
       "      <td>0.0</td>\n",
       "      <td>0.0</td>\n",
       "      <td>1.0</td>\n",
       "      <td>0.0</td>\n",
       "      <td>0.0</td>\n",
       "      <td>1.0</td>\n",
       "      <td>0.0</td>\n",
       "      <td>0.0</td>\n",
       "      <td>...</td>\n",
       "      <td>0.0</td>\n",
       "      <td>0.0</td>\n",
       "      <td>1.0</td>\n",
       "      <td>0.0</td>\n",
       "      <td>0.0</td>\n",
       "      <td>0.0</td>\n",
       "      <td>1.0</td>\n",
       "      <td>0.0</td>\n",
       "      <td>0.0</td>\n",
       "      <td>0.0</td>\n",
       "    </tr>\n",
       "    <tr>\n",
       "      <th>3</th>\n",
       "      <td>1.0</td>\n",
       "      <td>0.0</td>\n",
       "      <td>0.0</td>\n",
       "      <td>0.0</td>\n",
       "      <td>1.0</td>\n",
       "      <td>0.0</td>\n",
       "      <td>0.0</td>\n",
       "      <td>1.0</td>\n",
       "      <td>0.0</td>\n",
       "      <td>0.0</td>\n",
       "      <td>...</td>\n",
       "      <td>0.0</td>\n",
       "      <td>0.0</td>\n",
       "      <td>0.0</td>\n",
       "      <td>1.0</td>\n",
       "      <td>0.0</td>\n",
       "      <td>0.0</td>\n",
       "      <td>0.0</td>\n",
       "      <td>1.0</td>\n",
       "      <td>0.0</td>\n",
       "      <td>0.0</td>\n",
       "    </tr>\n",
       "    <tr>\n",
       "      <th>4</th>\n",
       "      <td>1.0</td>\n",
       "      <td>0.0</td>\n",
       "      <td>0.0</td>\n",
       "      <td>0.0</td>\n",
       "      <td>1.0</td>\n",
       "      <td>0.0</td>\n",
       "      <td>0.0</td>\n",
       "      <td>0.0</td>\n",
       "      <td>1.0</td>\n",
       "      <td>0.0</td>\n",
       "      <td>...</td>\n",
       "      <td>0.0</td>\n",
       "      <td>0.0</td>\n",
       "      <td>1.0</td>\n",
       "      <td>0.0</td>\n",
       "      <td>0.0</td>\n",
       "      <td>0.0</td>\n",
       "      <td>1.0</td>\n",
       "      <td>0.0</td>\n",
       "      <td>0.0</td>\n",
       "      <td>0.0</td>\n",
       "    </tr>\n",
       "  </tbody>\n",
       "</table>\n",
       "<p>5 rows × 22 columns</p>\n",
       "</div>"
      ],
      "text/plain": [
       "   gender_Female  gender_Male  gender_Other  ever_married_No  \\\n",
       "0            0.0          1.0           0.0              0.0   \n",
       "1            1.0          0.0           0.0              0.0   \n",
       "2            0.0          1.0           0.0              0.0   \n",
       "3            1.0          0.0           0.0              0.0   \n",
       "4            1.0          0.0           0.0              0.0   \n",
       "\n",
       "   ever_married_Yes  work_type_Govt_job  work_type_Never_worked  \\\n",
       "0               1.0                 0.0                     0.0   \n",
       "1               1.0                 0.0                     0.0   \n",
       "2               1.0                 0.0                     0.0   \n",
       "3               1.0                 0.0                     0.0   \n",
       "4               1.0                 0.0                     0.0   \n",
       "\n",
       "   work_type_Private  work_type_Self-employed  work_type_children  ...  \\\n",
       "0                1.0                      0.0                 0.0  ...   \n",
       "1                0.0                      1.0                 0.0  ...   \n",
       "2                1.0                      0.0                 0.0  ...   \n",
       "3                1.0                      0.0                 0.0  ...   \n",
       "4                0.0                      1.0                 0.0  ...   \n",
       "\n",
       "   smoking_status_Unknown  smoking_status_formerly smoked  \\\n",
       "0                     0.0                             1.0   \n",
       "1                     0.0                             0.0   \n",
       "2                     0.0                             0.0   \n",
       "3                     0.0                             0.0   \n",
       "4                     0.0                             0.0   \n",
       "\n",
       "   smoking_status_never smoked  smoking_status_smokes  number_of_risks_0  \\\n",
       "0                          0.0                    0.0                0.0   \n",
       "1                          1.0                    0.0                0.0   \n",
       "2                          1.0                    0.0                0.0   \n",
       "3                          0.0                    1.0                0.0   \n",
       "4                          1.0                    0.0                0.0   \n",
       "\n",
       "   number_of_risks_1  number_of_risks_2  number_of_risks_3  number_of_risks_4  \\\n",
       "0                0.0                0.0                0.0                1.0   \n",
       "1                0.0                1.0                0.0                0.0   \n",
       "2                0.0                1.0                0.0                0.0   \n",
       "3                0.0                0.0                1.0                0.0   \n",
       "4                0.0                1.0                0.0                0.0   \n",
       "\n",
       "   number_of_risks_5  \n",
       "0                0.0  \n",
       "1                0.0  \n",
       "2                0.0  \n",
       "3                0.0  \n",
       "4                0.0  \n",
       "\n",
       "[5 rows x 22 columns]"
      ]
     },
     "execution_count": 251,
     "metadata": {},
     "output_type": "execute_result"
    }
   ],
   "source": [
    " # Create a DataFrame with the encoded variables\n",
    "encoded_df = pd.DataFrame(\n",
    "    encoded_data,\n",
    "    columns = enc.get_feature_names_out(categorical_variables)\n",
    ")\n",
    "\n",
    "# Display sample data\n",
    "encoded_df.head()"
   ]
  },
  {
   "cell_type": "code",
   "execution_count": 252,
   "id": "130a8352-920d-4c12-9edd-56bd4aafbc3c",
   "metadata": {},
   "outputs": [
    {
     "data": {
      "text/html": [
       "<div>\n",
       "<style scoped>\n",
       "    .dataframe tbody tr th:only-of-type {\n",
       "        vertical-align: middle;\n",
       "    }\n",
       "\n",
       "    .dataframe tbody tr th {\n",
       "        vertical-align: top;\n",
       "    }\n",
       "\n",
       "    .dataframe thead th {\n",
       "        text-align: right;\n",
       "    }\n",
       "</style>\n",
       "<table border=\"1\" class=\"dataframe\">\n",
       "  <thead>\n",
       "    <tr style=\"text-align: right;\">\n",
       "      <th></th>\n",
       "      <th>age</th>\n",
       "      <th>hypertension</th>\n",
       "      <th>heart_disease</th>\n",
       "      <th>avg_glucose_level</th>\n",
       "      <th>bmi</th>\n",
       "      <th>stroke</th>\n",
       "    </tr>\n",
       "  </thead>\n",
       "  <tbody>\n",
       "    <tr>\n",
       "      <th>0</th>\n",
       "      <td>67.0</td>\n",
       "      <td>0</td>\n",
       "      <td>1</td>\n",
       "      <td>228.69</td>\n",
       "      <td>36.600000</td>\n",
       "      <td>1</td>\n",
       "    </tr>\n",
       "    <tr>\n",
       "      <th>1</th>\n",
       "      <td>61.0</td>\n",
       "      <td>0</td>\n",
       "      <td>0</td>\n",
       "      <td>202.21</td>\n",
       "      <td>28.893237</td>\n",
       "      <td>1</td>\n",
       "    </tr>\n",
       "    <tr>\n",
       "      <th>2</th>\n",
       "      <td>80.0</td>\n",
       "      <td>0</td>\n",
       "      <td>1</td>\n",
       "      <td>105.92</td>\n",
       "      <td>32.500000</td>\n",
       "      <td>1</td>\n",
       "    </tr>\n",
       "    <tr>\n",
       "      <th>3</th>\n",
       "      <td>49.0</td>\n",
       "      <td>0</td>\n",
       "      <td>0</td>\n",
       "      <td>171.23</td>\n",
       "      <td>34.400000</td>\n",
       "      <td>1</td>\n",
       "    </tr>\n",
       "    <tr>\n",
       "      <th>4</th>\n",
       "      <td>79.0</td>\n",
       "      <td>1</td>\n",
       "      <td>0</td>\n",
       "      <td>174.12</td>\n",
       "      <td>24.000000</td>\n",
       "      <td>1</td>\n",
       "    </tr>\n",
       "  </tbody>\n",
       "</table>\n",
       "</div>"
      ],
      "text/plain": [
       "    age  hypertension  heart_disease  avg_glucose_level        bmi  stroke\n",
       "0  67.0             0              1             228.69  36.600000       1\n",
       "1  61.0             0              0             202.21  28.893237       1\n",
       "2  80.0             0              1             105.92  32.500000       1\n",
       "3  49.0             0              0             171.23  34.400000       1\n",
       "4  79.0             1              0             174.12  24.000000       1"
      ]
     },
     "execution_count": 252,
     "metadata": {},
     "output_type": "execute_result"
    }
   ],
   "source": [
    "# Create a DataFrame with the columnns containing numerical variables from the original dataset\n",
    "numerical_variables_df = healthcare_df.drop(columns = categorical_variables)\n",
    "\n",
    "# Review the DataFrame\n",
    "numerical_variables_df.head()"
   ]
  },
  {
   "cell_type": "code",
   "execution_count": 253,
   "id": "a2010ab6-38ea-4c91-a096-5d6748846d97",
   "metadata": {},
   "outputs": [
    {
     "data": {
      "text/html": [
       "<div>\n",
       "<style scoped>\n",
       "    .dataframe tbody tr th:only-of-type {\n",
       "        vertical-align: middle;\n",
       "    }\n",
       "\n",
       "    .dataframe tbody tr th {\n",
       "        vertical-align: top;\n",
       "    }\n",
       "\n",
       "    .dataframe thead th {\n",
       "        text-align: right;\n",
       "    }\n",
       "</style>\n",
       "<table border=\"1\" class=\"dataframe\">\n",
       "  <thead>\n",
       "    <tr style=\"text-align: right;\">\n",
       "      <th></th>\n",
       "      <th>age</th>\n",
       "      <th>hypertension</th>\n",
       "      <th>heart_disease</th>\n",
       "      <th>avg_glucose_level</th>\n",
       "      <th>bmi</th>\n",
       "      <th>stroke</th>\n",
       "      <th>gender_Female</th>\n",
       "      <th>gender_Male</th>\n",
       "      <th>gender_Other</th>\n",
       "      <th>ever_married_No</th>\n",
       "      <th>...</th>\n",
       "      <th>smoking_status_Unknown</th>\n",
       "      <th>smoking_status_formerly smoked</th>\n",
       "      <th>smoking_status_never smoked</th>\n",
       "      <th>smoking_status_smokes</th>\n",
       "      <th>number_of_risks_0</th>\n",
       "      <th>number_of_risks_1</th>\n",
       "      <th>number_of_risks_2</th>\n",
       "      <th>number_of_risks_3</th>\n",
       "      <th>number_of_risks_4</th>\n",
       "      <th>number_of_risks_5</th>\n",
       "    </tr>\n",
       "  </thead>\n",
       "  <tbody>\n",
       "    <tr>\n",
       "      <th>0</th>\n",
       "      <td>67.0</td>\n",
       "      <td>0</td>\n",
       "      <td>1</td>\n",
       "      <td>228.69</td>\n",
       "      <td>36.600000</td>\n",
       "      <td>1</td>\n",
       "      <td>0.0</td>\n",
       "      <td>1.0</td>\n",
       "      <td>0.0</td>\n",
       "      <td>0.0</td>\n",
       "      <td>...</td>\n",
       "      <td>0.0</td>\n",
       "      <td>1.0</td>\n",
       "      <td>0.0</td>\n",
       "      <td>0.0</td>\n",
       "      <td>0.0</td>\n",
       "      <td>0.0</td>\n",
       "      <td>0.0</td>\n",
       "      <td>0.0</td>\n",
       "      <td>1.0</td>\n",
       "      <td>0.0</td>\n",
       "    </tr>\n",
       "    <tr>\n",
       "      <th>1</th>\n",
       "      <td>61.0</td>\n",
       "      <td>0</td>\n",
       "      <td>0</td>\n",
       "      <td>202.21</td>\n",
       "      <td>28.893237</td>\n",
       "      <td>1</td>\n",
       "      <td>1.0</td>\n",
       "      <td>0.0</td>\n",
       "      <td>0.0</td>\n",
       "      <td>0.0</td>\n",
       "      <td>...</td>\n",
       "      <td>0.0</td>\n",
       "      <td>0.0</td>\n",
       "      <td>1.0</td>\n",
       "      <td>0.0</td>\n",
       "      <td>0.0</td>\n",
       "      <td>0.0</td>\n",
       "      <td>1.0</td>\n",
       "      <td>0.0</td>\n",
       "      <td>0.0</td>\n",
       "      <td>0.0</td>\n",
       "    </tr>\n",
       "    <tr>\n",
       "      <th>2</th>\n",
       "      <td>80.0</td>\n",
       "      <td>0</td>\n",
       "      <td>1</td>\n",
       "      <td>105.92</td>\n",
       "      <td>32.500000</td>\n",
       "      <td>1</td>\n",
       "      <td>0.0</td>\n",
       "      <td>1.0</td>\n",
       "      <td>0.0</td>\n",
       "      <td>0.0</td>\n",
       "      <td>...</td>\n",
       "      <td>0.0</td>\n",
       "      <td>0.0</td>\n",
       "      <td>1.0</td>\n",
       "      <td>0.0</td>\n",
       "      <td>0.0</td>\n",
       "      <td>0.0</td>\n",
       "      <td>1.0</td>\n",
       "      <td>0.0</td>\n",
       "      <td>0.0</td>\n",
       "      <td>0.0</td>\n",
       "    </tr>\n",
       "    <tr>\n",
       "      <th>3</th>\n",
       "      <td>49.0</td>\n",
       "      <td>0</td>\n",
       "      <td>0</td>\n",
       "      <td>171.23</td>\n",
       "      <td>34.400000</td>\n",
       "      <td>1</td>\n",
       "      <td>1.0</td>\n",
       "      <td>0.0</td>\n",
       "      <td>0.0</td>\n",
       "      <td>0.0</td>\n",
       "      <td>...</td>\n",
       "      <td>0.0</td>\n",
       "      <td>0.0</td>\n",
       "      <td>0.0</td>\n",
       "      <td>1.0</td>\n",
       "      <td>0.0</td>\n",
       "      <td>0.0</td>\n",
       "      <td>0.0</td>\n",
       "      <td>1.0</td>\n",
       "      <td>0.0</td>\n",
       "      <td>0.0</td>\n",
       "    </tr>\n",
       "    <tr>\n",
       "      <th>4</th>\n",
       "      <td>79.0</td>\n",
       "      <td>1</td>\n",
       "      <td>0</td>\n",
       "      <td>174.12</td>\n",
       "      <td>24.000000</td>\n",
       "      <td>1</td>\n",
       "      <td>1.0</td>\n",
       "      <td>0.0</td>\n",
       "      <td>0.0</td>\n",
       "      <td>0.0</td>\n",
       "      <td>...</td>\n",
       "      <td>0.0</td>\n",
       "      <td>0.0</td>\n",
       "      <td>1.0</td>\n",
       "      <td>0.0</td>\n",
       "      <td>0.0</td>\n",
       "      <td>0.0</td>\n",
       "      <td>1.0</td>\n",
       "      <td>0.0</td>\n",
       "      <td>0.0</td>\n",
       "      <td>0.0</td>\n",
       "    </tr>\n",
       "  </tbody>\n",
       "</table>\n",
       "<p>5 rows × 28 columns</p>\n",
       "</div>"
      ],
      "text/plain": [
       "    age  hypertension  heart_disease  avg_glucose_level        bmi  stroke  \\\n",
       "0  67.0             0              1             228.69  36.600000       1   \n",
       "1  61.0             0              0             202.21  28.893237       1   \n",
       "2  80.0             0              1             105.92  32.500000       1   \n",
       "3  49.0             0              0             171.23  34.400000       1   \n",
       "4  79.0             1              0             174.12  24.000000       1   \n",
       "\n",
       "   gender_Female  gender_Male  gender_Other  ever_married_No  ...  \\\n",
       "0            0.0          1.0           0.0              0.0  ...   \n",
       "1            1.0          0.0           0.0              0.0  ...   \n",
       "2            0.0          1.0           0.0              0.0  ...   \n",
       "3            1.0          0.0           0.0              0.0  ...   \n",
       "4            1.0          0.0           0.0              0.0  ...   \n",
       "\n",
       "   smoking_status_Unknown  smoking_status_formerly smoked  \\\n",
       "0                     0.0                             1.0   \n",
       "1                     0.0                             0.0   \n",
       "2                     0.0                             0.0   \n",
       "3                     0.0                             0.0   \n",
       "4                     0.0                             0.0   \n",
       "\n",
       "   smoking_status_never smoked  smoking_status_smokes  number_of_risks_0  \\\n",
       "0                          0.0                    0.0                0.0   \n",
       "1                          1.0                    0.0                0.0   \n",
       "2                          1.0                    0.0                0.0   \n",
       "3                          0.0                    1.0                0.0   \n",
       "4                          1.0                    0.0                0.0   \n",
       "\n",
       "   number_of_risks_1  number_of_risks_2  number_of_risks_3  number_of_risks_4  \\\n",
       "0                0.0                0.0                0.0                1.0   \n",
       "1                0.0                1.0                0.0                0.0   \n",
       "2                0.0                1.0                0.0                0.0   \n",
       "3                0.0                0.0                1.0                0.0   \n",
       "4                0.0                1.0                0.0                0.0   \n",
       "\n",
       "   number_of_risks_5  \n",
       "0                0.0  \n",
       "1                0.0  \n",
       "2                0.0  \n",
       "3                0.0  \n",
       "4                0.0  \n",
       "\n",
       "[5 rows x 28 columns]"
      ]
     },
     "execution_count": 253,
     "metadata": {},
     "output_type": "execute_result"
    }
   ],
   "source": [
    "# Using the Pandas concat function, combine the DataFrames the contain the encoded categorical data and the numerical data\n",
    "healthcare_encoded = pd.concat(\n",
    "    [\n",
    "        numerical_variables_df,\n",
    "        encoded_df\n",
    "    ],\n",
    "    axis=1\n",
    ")\n",
    "\n",
    "healthcare_encoded.head()"
   ]
  },
  {
   "cell_type": "code",
   "execution_count": 254,
   "id": "6b588e37-3d58-421e-8fb7-00ad329df861",
   "metadata": {},
   "outputs": [],
   "source": [
    "#Seperate Target\n",
    "X = healthcare_encoded.drop(columns = \"stroke\")\n",
    "y = healthcare_encoded[\"stroke\"]"
   ]
  },
  {
   "cell_type": "code",
   "execution_count": 255,
   "id": "23ed8cce-e480-40d2-b6f9-95cca3118a0d",
   "metadata": {},
   "outputs": [],
   "source": [
    "# Scale the data\n",
    "from sklearn.preprocessing import StandardScaler\n",
    "\n",
    "scaler = StandardScaler().fit(X)\n",
    "X = scaler.transform(X)"
   ]
  },
  {
   "cell_type": "code",
   "execution_count": 256,
   "id": "26b6b149-f3ca-48e1-b999-c1f77e1653eb",
   "metadata": {},
   "outputs": [
    {
     "data": {
      "text/plain": [
       "0    1203\n",
       "1      75\n",
       "Name: stroke, dtype: int64"
      ]
     },
     "metadata": {},
     "output_type": "display_data"
    }
   ],
   "source": [
    "from sklearn.model_selection import train_test_split\n",
    "\n",
    "X_train, X_test, y_train, y_test = train_test_split(X, y, random_state=1)\n",
    "\n",
    "\n",
    "display(y_test.value_counts())"
   ]
  },
  {
   "cell_type": "code",
   "execution_count": 257,
   "id": "b684e4a7-870b-4c6d-a540-fd0ee6346687",
   "metadata": {},
   "outputs": [
    {
     "data": {
      "text/plain": [
       "1    3522\n",
       "0    3082\n",
       "Name: stroke, dtype: int64"
      ]
     },
     "metadata": {},
     "output_type": "display_data"
    }
   ],
   "source": [
    "# Import SMOTEENN from imblearn\n",
    "from imblearn.combine import SMOTEENN\n",
    "\n",
    "# Instantiate an instance of the SMOTEENN model\n",
    "smote_enn = SMOTEENN(random_state=1)\n",
    "\n",
    "# Fit the SMOTEENN model to the training data\n",
    "X_resampled, y_resampled = smote_enn.fit_resample(X_train, y_train)\n",
    "\n",
    "\n",
    "display(y_resampled.value_counts())"
   ]
  },
  {
   "cell_type": "markdown",
   "id": "36ffdaac-0cfd-4475-86e4-274e61f36cce",
   "metadata": {},
   "source": [
    "# Logistic Regression Model"
   ]
  },
  {
   "cell_type": "code",
   "execution_count": 258,
   "id": "8a78dc73-244d-43ad-9ed5-24db2ec2530c",
   "metadata": {},
   "outputs": [],
   "source": [
    "# Declare a logistic regression model.\n",
    "# Apply a random_state of 1 to the \n",
    "from sklearn.linear_model import LogisticRegression\n",
    "\n",
    "logistic_regression_model = LogisticRegression(random_state=1)\n",
    "\n",
    "# Fit and save the logistic regression model using the training data\n",
    "lr_model = logistic_regression_model.fit(X_resampled, y_resampled)"
   ]
  },
  {
   "cell_type": "code",
   "execution_count": 259,
   "id": "5fe974d7-9cf3-46a4-bd8f-eb72f1aa8609",
   "metadata": {},
   "outputs": [],
   "source": [
    " #Generate training predictions\n",
    "training_predictions = lr_model.predict(X_resampled)\n",
    "\n",
    "#Generate testing predictions\n",
    "testing_predictions = logistic_regression_model.predict(X_test)"
   ]
  },
  {
   "cell_type": "code",
   "execution_count": 260,
   "id": "4e46d49a-e01e-4a7e-bda6-22520e0d42c5",
   "metadata": {},
   "outputs": [
    {
     "name": "stdout",
     "output_type": "stream",
     "text": [
      "[[2403  679]\n",
      " [ 444 3078]]\n"
     ]
    }
   ],
   "source": [
    "from sklearn.metrics import confusion_matrix\n",
    "\n",
    "# Create and save the confustion matrix for the training data\n",
    "training_matrix = confusion_matrix(y_resampled, training_predictions)\n",
    "\n",
    "# Print the confusion matrix for the training data\n",
    "print(training_matrix)"
   ]
  },
  {
   "cell_type": "code",
   "execution_count": 261,
   "id": "565b91f0-3819-4273-b260-ab079483ecfb",
   "metadata": {},
   "outputs": [
    {
     "name": "stdout",
     "output_type": "stream",
     "text": [
      "              precision    recall  f1-score   support\n",
      "\n",
      "           0       0.84      0.78      0.81      3082\n",
      "           1       0.82      0.87      0.85      3522\n",
      "\n",
      "    accuracy                           0.83      6604\n",
      "   macro avg       0.83      0.83      0.83      6604\n",
      "weighted avg       0.83      0.83      0.83      6604\n",
      "\n"
     ]
    }
   ],
   "source": [
    "# Create and save the training classifiction report\n",
    "from sklearn.metrics import classification_report\n",
    "training_report = classification_report(y_resampled, training_predictions)\n",
    "# Print the training classification report\n",
    "print(training_report)"
   ]
  },
  {
   "cell_type": "markdown",
   "id": "54b3e624-ee67-49ad-856b-c01f718e0859",
   "metadata": {},
   "source": [
    "# Random Forest Classifier"
   ]
  },
  {
   "cell_type": "code",
   "execution_count": 262,
   "id": "504d41b8-6410-4867-8721-3b232e24feaf",
   "metadata": {},
   "outputs": [
    {
     "data": {
      "text/html": [
       "<style>#sk-container-id-12 {color: black;background-color: white;}#sk-container-id-12 pre{padding: 0;}#sk-container-id-12 div.sk-toggleable {background-color: white;}#sk-container-id-12 label.sk-toggleable__label {cursor: pointer;display: block;width: 100%;margin-bottom: 0;padding: 0.3em;box-sizing: border-box;text-align: center;}#sk-container-id-12 label.sk-toggleable__label-arrow:before {content: \"▸\";float: left;margin-right: 0.25em;color: #696969;}#sk-container-id-12 label.sk-toggleable__label-arrow:hover:before {color: black;}#sk-container-id-12 div.sk-estimator:hover label.sk-toggleable__label-arrow:before {color: black;}#sk-container-id-12 div.sk-toggleable__content {max-height: 0;max-width: 0;overflow: hidden;text-align: left;background-color: #f0f8ff;}#sk-container-id-12 div.sk-toggleable__content pre {margin: 0.2em;color: black;border-radius: 0.25em;background-color: #f0f8ff;}#sk-container-id-12 input.sk-toggleable__control:checked~div.sk-toggleable__content {max-height: 200px;max-width: 100%;overflow: auto;}#sk-container-id-12 input.sk-toggleable__control:checked~label.sk-toggleable__label-arrow:before {content: \"▾\";}#sk-container-id-12 div.sk-estimator input.sk-toggleable__control:checked~label.sk-toggleable__label {background-color: #d4ebff;}#sk-container-id-12 div.sk-label input.sk-toggleable__control:checked~label.sk-toggleable__label {background-color: #d4ebff;}#sk-container-id-12 input.sk-hidden--visually {border: 0;clip: rect(1px 1px 1px 1px);clip: rect(1px, 1px, 1px, 1px);height: 1px;margin: -1px;overflow: hidden;padding: 0;position: absolute;width: 1px;}#sk-container-id-12 div.sk-estimator {font-family: monospace;background-color: #f0f8ff;border: 1px dotted black;border-radius: 0.25em;box-sizing: border-box;margin-bottom: 0.5em;}#sk-container-id-12 div.sk-estimator:hover {background-color: #d4ebff;}#sk-container-id-12 div.sk-parallel-item::after {content: \"\";width: 100%;border-bottom: 1px solid gray;flex-grow: 1;}#sk-container-id-12 div.sk-label:hover label.sk-toggleable__label {background-color: #d4ebff;}#sk-container-id-12 div.sk-serial::before {content: \"\";position: absolute;border-left: 1px solid gray;box-sizing: border-box;top: 0;bottom: 0;left: 50%;z-index: 0;}#sk-container-id-12 div.sk-serial {display: flex;flex-direction: column;align-items: center;background-color: white;padding-right: 0.2em;padding-left: 0.2em;position: relative;}#sk-container-id-12 div.sk-item {position: relative;z-index: 1;}#sk-container-id-12 div.sk-parallel {display: flex;align-items: stretch;justify-content: center;background-color: white;position: relative;}#sk-container-id-12 div.sk-item::before, #sk-container-id-12 div.sk-parallel-item::before {content: \"\";position: absolute;border-left: 1px solid gray;box-sizing: border-box;top: 0;bottom: 0;left: 50%;z-index: -1;}#sk-container-id-12 div.sk-parallel-item {display: flex;flex-direction: column;z-index: 1;position: relative;background-color: white;}#sk-container-id-12 div.sk-parallel-item:first-child::after {align-self: flex-end;width: 50%;}#sk-container-id-12 div.sk-parallel-item:last-child::after {align-self: flex-start;width: 50%;}#sk-container-id-12 div.sk-parallel-item:only-child::after {width: 0;}#sk-container-id-12 div.sk-dashed-wrapped {border: 1px dashed gray;margin: 0 0.4em 0.5em 0.4em;box-sizing: border-box;padding-bottom: 0.4em;background-color: white;}#sk-container-id-12 div.sk-label label {font-family: monospace;font-weight: bold;display: inline-block;line-height: 1.2em;}#sk-container-id-12 div.sk-label-container {text-align: center;}#sk-container-id-12 div.sk-container {/* jupyter's `normalize.less` sets `[hidden] { display: none; }` but bootstrap.min.css set `[hidden] { display: none !important; }` so we also need the `!important` here to be able to override the default hidden behavior on the sphinx rendered scikit-learn.org. See: https://github.com/scikit-learn/scikit-learn/issues/21755 */display: inline-block !important;position: relative;}#sk-container-id-12 div.sk-text-repr-fallback {display: none;}</style><div id=\"sk-container-id-12\" class=\"sk-top-container\"><div class=\"sk-text-repr-fallback\"><pre>RandomForestClassifier()</pre><b>In a Jupyter environment, please rerun this cell to show the HTML representation or trust the notebook. <br />On GitHub, the HTML representation is unable to render, please try loading this page with nbviewer.org.</b></div><div class=\"sk-container\" hidden><div class=\"sk-item\"><div class=\"sk-estimator sk-toggleable\"><input class=\"sk-toggleable__control sk-hidden--visually\" id=\"sk-estimator-id-32\" type=\"checkbox\" checked><label for=\"sk-estimator-id-32\" class=\"sk-toggleable__label sk-toggleable__label-arrow\">RandomForestClassifier</label><div class=\"sk-toggleable__content\"><pre>RandomForestClassifier()</pre></div></div></div></div></div>"
      ],
      "text/plain": [
       "RandomForestClassifier()"
      ]
     },
     "execution_count": 262,
     "metadata": {},
     "output_type": "execute_result"
    }
   ],
   "source": [
    "from sklearn.ensemble import RandomForestClassifier\n",
    "from sklearn.metrics import classification_report\n",
    "\n",
    "# Fit random forest on resampled data\n",
    "model_RFC_resampled = RandomForestClassifier()\n",
    "model_RFC_resampled.fit(X_resampled, y_resampled)"
   ]
  },
  {
   "cell_type": "code",
   "execution_count": 263,
   "id": "65f56a78-e96a-4246-95b7-b4085d57fdd6",
   "metadata": {},
   "outputs": [],
   "source": [
    "# Generate predictions based on the resampled data model\n",
    "y_pred_RFC_resampled = model_RFC_resampled.predict(X_test)"
   ]
  },
  {
   "cell_type": "code",
   "execution_count": 264,
   "id": "58e3c288-927a-4bb1-a37b-7886a94cf597",
   "metadata": {},
   "outputs": [
    {
     "name": "stdout",
     "output_type": "stream",
     "text": [
      "              precision    recall  f1-score   support\n",
      "\n",
      "           0       0.95      0.92      0.93      1203\n",
      "           1       0.14      0.21      0.17        75\n",
      "\n",
      "    accuracy                           0.88      1278\n",
      "   macro avg       0.55      0.57      0.55      1278\n",
      "weighted avg       0.90      0.88      0.89      1278\n",
      "\n"
     ]
    }
   ],
   "source": [
    "# Print classification reports\n",
    "print(classification_report(y_test, y_pred_RFC_resampled))"
   ]
  },
  {
   "cell_type": "markdown",
   "id": "02f2b09a-e6c5-42fe-860b-29a7840e4752",
   "metadata": {},
   "source": [
    "# Support Vector Machine Classifier"
   ]
  },
  {
   "cell_type": "code",
   "execution_count": 265,
   "id": "43778b1d-8ea5-42c9-a6de-b19e86b531ea",
   "metadata": {},
   "outputs": [
    {
     "data": {
      "text/html": [
       "<style>#sk-container-id-13 {color: black;background-color: white;}#sk-container-id-13 pre{padding: 0;}#sk-container-id-13 div.sk-toggleable {background-color: white;}#sk-container-id-13 label.sk-toggleable__label {cursor: pointer;display: block;width: 100%;margin-bottom: 0;padding: 0.3em;box-sizing: border-box;text-align: center;}#sk-container-id-13 label.sk-toggleable__label-arrow:before {content: \"▸\";float: left;margin-right: 0.25em;color: #696969;}#sk-container-id-13 label.sk-toggleable__label-arrow:hover:before {color: black;}#sk-container-id-13 div.sk-estimator:hover label.sk-toggleable__label-arrow:before {color: black;}#sk-container-id-13 div.sk-toggleable__content {max-height: 0;max-width: 0;overflow: hidden;text-align: left;background-color: #f0f8ff;}#sk-container-id-13 div.sk-toggleable__content pre {margin: 0.2em;color: black;border-radius: 0.25em;background-color: #f0f8ff;}#sk-container-id-13 input.sk-toggleable__control:checked~div.sk-toggleable__content {max-height: 200px;max-width: 100%;overflow: auto;}#sk-container-id-13 input.sk-toggleable__control:checked~label.sk-toggleable__label-arrow:before {content: \"▾\";}#sk-container-id-13 div.sk-estimator input.sk-toggleable__control:checked~label.sk-toggleable__label {background-color: #d4ebff;}#sk-container-id-13 div.sk-label input.sk-toggleable__control:checked~label.sk-toggleable__label {background-color: #d4ebff;}#sk-container-id-13 input.sk-hidden--visually {border: 0;clip: rect(1px 1px 1px 1px);clip: rect(1px, 1px, 1px, 1px);height: 1px;margin: -1px;overflow: hidden;padding: 0;position: absolute;width: 1px;}#sk-container-id-13 div.sk-estimator {font-family: monospace;background-color: #f0f8ff;border: 1px dotted black;border-radius: 0.25em;box-sizing: border-box;margin-bottom: 0.5em;}#sk-container-id-13 div.sk-estimator:hover {background-color: #d4ebff;}#sk-container-id-13 div.sk-parallel-item::after {content: \"\";width: 100%;border-bottom: 1px solid gray;flex-grow: 1;}#sk-container-id-13 div.sk-label:hover label.sk-toggleable__label {background-color: #d4ebff;}#sk-container-id-13 div.sk-serial::before {content: \"\";position: absolute;border-left: 1px solid gray;box-sizing: border-box;top: 0;bottom: 0;left: 50%;z-index: 0;}#sk-container-id-13 div.sk-serial {display: flex;flex-direction: column;align-items: center;background-color: white;padding-right: 0.2em;padding-left: 0.2em;position: relative;}#sk-container-id-13 div.sk-item {position: relative;z-index: 1;}#sk-container-id-13 div.sk-parallel {display: flex;align-items: stretch;justify-content: center;background-color: white;position: relative;}#sk-container-id-13 div.sk-item::before, #sk-container-id-13 div.sk-parallel-item::before {content: \"\";position: absolute;border-left: 1px solid gray;box-sizing: border-box;top: 0;bottom: 0;left: 50%;z-index: -1;}#sk-container-id-13 div.sk-parallel-item {display: flex;flex-direction: column;z-index: 1;position: relative;background-color: white;}#sk-container-id-13 div.sk-parallel-item:first-child::after {align-self: flex-end;width: 50%;}#sk-container-id-13 div.sk-parallel-item:last-child::after {align-self: flex-start;width: 50%;}#sk-container-id-13 div.sk-parallel-item:only-child::after {width: 0;}#sk-container-id-13 div.sk-dashed-wrapped {border: 1px dashed gray;margin: 0 0.4em 0.5em 0.4em;box-sizing: border-box;padding-bottom: 0.4em;background-color: white;}#sk-container-id-13 div.sk-label label {font-family: monospace;font-weight: bold;display: inline-block;line-height: 1.2em;}#sk-container-id-13 div.sk-label-container {text-align: center;}#sk-container-id-13 div.sk-container {/* jupyter's `normalize.less` sets `[hidden] { display: none; }` but bootstrap.min.css set `[hidden] { display: none !important; }` so we also need the `!important` here to be able to override the default hidden behavior on the sphinx rendered scikit-learn.org. See: https://github.com/scikit-learn/scikit-learn/issues/21755 */display: inline-block !important;position: relative;}#sk-container-id-13 div.sk-text-repr-fallback {display: none;}</style><div id=\"sk-container-id-13\" class=\"sk-top-container\"><div class=\"sk-text-repr-fallback\"><pre>SVC()</pre><b>In a Jupyter environment, please rerun this cell to show the HTML representation or trust the notebook. <br />On GitHub, the HTML representation is unable to render, please try loading this page with nbviewer.org.</b></div><div class=\"sk-container\" hidden><div class=\"sk-item\"><div class=\"sk-estimator sk-toggleable\"><input class=\"sk-toggleable__control sk-hidden--visually\" id=\"sk-estimator-id-33\" type=\"checkbox\" checked><label for=\"sk-estimator-id-33\" class=\"sk-toggleable__label sk-toggleable__label-arrow\">SVC</label><div class=\"sk-toggleable__content\"><pre>SVC()</pre></div></div></div></div></div>"
      ],
      "text/plain": [
       "SVC()"
      ]
     },
     "execution_count": 265,
     "metadata": {},
     "output_type": "execute_result"
    }
   ],
   "source": [
    "# Support vector machine linear classifier\n",
    "from sklearn.svm import SVC\n",
    "\n",
    "model_SVM_resampled = SVC(kernel='rbf') #'rbf' is the default (higher dimensions)\n",
    "model_SVM_resampled.fit(X_resampled, y_resampled)"
   ]
  },
  {
   "cell_type": "code",
   "execution_count": 266,
   "id": "a3a4e658-b572-4e57-81ed-4a9eaf03aa8a",
   "metadata": {},
   "outputs": [],
   "source": [
    "# Generate predictions based on the resampled data model\n",
    "y_pred_SVM_resampled = model_SVM_resampled.predict(X_test)"
   ]
  },
  {
   "cell_type": "code",
   "execution_count": 267,
   "id": "cbefcda6-64c2-44ad-b6ce-ec6b6497bd13",
   "metadata": {},
   "outputs": [
    {
     "name": "stdout",
     "output_type": "stream",
     "text": [
      "              precision    recall  f1-score   support\n",
      "\n",
      "           0       0.96      0.78      0.86      1203\n",
      "           1       0.11      0.45      0.18        75\n",
      "\n",
      "    accuracy                           0.76      1278\n",
      "   macro avg       0.54      0.62      0.52      1278\n",
      "weighted avg       0.91      0.76      0.82      1278\n",
      "\n"
     ]
    }
   ],
   "source": [
    "# Print classification reports\n",
    "print(classification_report(y_test, y_pred_SVM_resampled))"
   ]
  },
  {
   "cell_type": "markdown",
   "id": "ef7c6452-9e27-460e-8f7f-a5c5869942f1",
   "metadata": {},
   "source": [
    "# Decision Tree Classifier"
   ]
  },
  {
   "cell_type": "code",
   "execution_count": 268,
   "id": "2832a355-2d9d-4a07-818f-2b54fc201d04",
   "metadata": {},
   "outputs": [],
   "source": [
    "from sklearn import tree\n",
    "\n",
    "# Creating the decision tree classifier instance\n",
    "model_DTC_resampled = tree.DecisionTreeClassifier(random_state = 1)\n",
    "model_DTC_resampled = model_DTC_resampled.fit(X_resampled, y_resampled)"
   ]
  },
  {
   "cell_type": "code",
   "execution_count": 269,
   "id": "45a2fac3-dc5a-446f-bd5c-c3502ae861d5",
   "metadata": {},
   "outputs": [],
   "source": [
    "# Making predictions using the testing data\n",
    "y_pred_DTC_resampled = model_DTC_resampled.predict(X_test)"
   ]
  },
  {
   "cell_type": "code",
   "execution_count": 270,
   "id": "47055830-6fb6-49b6-a37e-c8a1db4280ff",
   "metadata": {},
   "outputs": [
    {
     "name": "stdout",
     "output_type": "stream",
     "text": [
      "              precision    recall  f1-score   support\n",
      "\n",
      "           0       0.95      0.89      0.92      1203\n",
      "           1       0.11      0.21      0.14        75\n",
      "\n",
      "    accuracy                           0.85      1278\n",
      "   macro avg       0.53      0.55      0.53      1278\n",
      "weighted avg       0.90      0.85      0.87      1278\n",
      "\n"
     ]
    }
   ],
   "source": [
    "# Displaying classification report\n",
    "print(classification_report(y_test, y_pred_DTC_resampled))"
   ]
  },
  {
   "cell_type": "markdown",
   "id": "1250e351-2d46-4a6a-bba5-c3d66383a732",
   "metadata": {},
   "source": [
    "# KNN Classifier"
   ]
  },
  {
   "cell_type": "code",
   "execution_count": 271,
   "id": "42ce5b78-b1ec-4b1e-a5bd-73dff58cecc4",
   "metadata": {},
   "outputs": [],
   "source": [
    "from sklearn.neighbors import KNeighborsClassifier\n",
    "\n",
    "model_KNN_resampled = KNeighborsClassifier(n_neighbors = 5, metric = 'minkowski', p=2)\n",
    "model_KNN_resampled = model_KNN_resampled.fit(X_resampled, y_resampled)"
   ]
  },
  {
   "cell_type": "code",
   "execution_count": 272,
   "id": "85e3a930-1ace-40bf-8c68-c466885fd020",
   "metadata": {},
   "outputs": [],
   "source": [
    "y_pred_KNN_resampled = model_KNN_resampled.predict(X_test)"
   ]
  },
  {
   "cell_type": "code",
   "execution_count": 273,
   "id": "c4469585-b71b-4ff7-acdc-7076a323eca3",
   "metadata": {},
   "outputs": [
    {
     "name": "stdout",
     "output_type": "stream",
     "text": [
      "              precision    recall  f1-score   support\n",
      "\n",
      "           0       0.95      0.82      0.88      1203\n",
      "           1       0.10      0.33      0.16        75\n",
      "\n",
      "    accuracy                           0.79      1278\n",
      "   macro avg       0.53      0.57      0.52      1278\n",
      "weighted avg       0.90      0.79      0.84      1278\n",
      "\n"
     ]
    }
   ],
   "source": [
    "print(classification_report(y_test, y_pred_KNN_resampled))"
   ]
  },
  {
   "cell_type": "markdown",
   "id": "8c6961a7-00de-4d8d-811d-5a6f66676ca3",
   "metadata": {},
   "source": [
    "# Stacking Classifier"
   ]
  },
  {
   "cell_type": "code",
   "execution_count": 274,
   "id": "1b0f33e1-9cf2-49e6-8e0b-17be2df5cc10",
   "metadata": {},
   "outputs": [
    {
     "data": {
      "text/html": [
       "<style>#sk-container-id-14 {color: black;background-color: white;}#sk-container-id-14 pre{padding: 0;}#sk-container-id-14 div.sk-toggleable {background-color: white;}#sk-container-id-14 label.sk-toggleable__label {cursor: pointer;display: block;width: 100%;margin-bottom: 0;padding: 0.3em;box-sizing: border-box;text-align: center;}#sk-container-id-14 label.sk-toggleable__label-arrow:before {content: \"▸\";float: left;margin-right: 0.25em;color: #696969;}#sk-container-id-14 label.sk-toggleable__label-arrow:hover:before {color: black;}#sk-container-id-14 div.sk-estimator:hover label.sk-toggleable__label-arrow:before {color: black;}#sk-container-id-14 div.sk-toggleable__content {max-height: 0;max-width: 0;overflow: hidden;text-align: left;background-color: #f0f8ff;}#sk-container-id-14 div.sk-toggleable__content pre {margin: 0.2em;color: black;border-radius: 0.25em;background-color: #f0f8ff;}#sk-container-id-14 input.sk-toggleable__control:checked~div.sk-toggleable__content {max-height: 200px;max-width: 100%;overflow: auto;}#sk-container-id-14 input.sk-toggleable__control:checked~label.sk-toggleable__label-arrow:before {content: \"▾\";}#sk-container-id-14 div.sk-estimator input.sk-toggleable__control:checked~label.sk-toggleable__label {background-color: #d4ebff;}#sk-container-id-14 div.sk-label input.sk-toggleable__control:checked~label.sk-toggleable__label {background-color: #d4ebff;}#sk-container-id-14 input.sk-hidden--visually {border: 0;clip: rect(1px 1px 1px 1px);clip: rect(1px, 1px, 1px, 1px);height: 1px;margin: -1px;overflow: hidden;padding: 0;position: absolute;width: 1px;}#sk-container-id-14 div.sk-estimator {font-family: monospace;background-color: #f0f8ff;border: 1px dotted black;border-radius: 0.25em;box-sizing: border-box;margin-bottom: 0.5em;}#sk-container-id-14 div.sk-estimator:hover {background-color: #d4ebff;}#sk-container-id-14 div.sk-parallel-item::after {content: \"\";width: 100%;border-bottom: 1px solid gray;flex-grow: 1;}#sk-container-id-14 div.sk-label:hover label.sk-toggleable__label {background-color: #d4ebff;}#sk-container-id-14 div.sk-serial::before {content: \"\";position: absolute;border-left: 1px solid gray;box-sizing: border-box;top: 0;bottom: 0;left: 50%;z-index: 0;}#sk-container-id-14 div.sk-serial {display: flex;flex-direction: column;align-items: center;background-color: white;padding-right: 0.2em;padding-left: 0.2em;position: relative;}#sk-container-id-14 div.sk-item {position: relative;z-index: 1;}#sk-container-id-14 div.sk-parallel {display: flex;align-items: stretch;justify-content: center;background-color: white;position: relative;}#sk-container-id-14 div.sk-item::before, #sk-container-id-14 div.sk-parallel-item::before {content: \"\";position: absolute;border-left: 1px solid gray;box-sizing: border-box;top: 0;bottom: 0;left: 50%;z-index: -1;}#sk-container-id-14 div.sk-parallel-item {display: flex;flex-direction: column;z-index: 1;position: relative;background-color: white;}#sk-container-id-14 div.sk-parallel-item:first-child::after {align-self: flex-end;width: 50%;}#sk-container-id-14 div.sk-parallel-item:last-child::after {align-self: flex-start;width: 50%;}#sk-container-id-14 div.sk-parallel-item:only-child::after {width: 0;}#sk-container-id-14 div.sk-dashed-wrapped {border: 1px dashed gray;margin: 0 0.4em 0.5em 0.4em;box-sizing: border-box;padding-bottom: 0.4em;background-color: white;}#sk-container-id-14 div.sk-label label {font-family: monospace;font-weight: bold;display: inline-block;line-height: 1.2em;}#sk-container-id-14 div.sk-label-container {text-align: center;}#sk-container-id-14 div.sk-container {/* jupyter's `normalize.less` sets `[hidden] { display: none; }` but bootstrap.min.css set `[hidden] { display: none !important; }` so we also need the `!important` here to be able to override the default hidden behavior on the sphinx rendered scikit-learn.org. See: https://github.com/scikit-learn/scikit-learn/issues/21755 */display: inline-block !important;position: relative;}#sk-container-id-14 div.sk-text-repr-fallback {display: none;}</style><div id=\"sk-container-id-14\" class=\"sk-top-container\"><div class=\"sk-text-repr-fallback\"><pre>StackingClassifier(cv=10,\n",
       "                   estimators=[(&#x27;DecisionTree&#x27;,\n",
       "                                DecisionTreeClassifier(random_state=1)),\n",
       "                               (&#x27;SupportVector&#x27;, SVC()),\n",
       "                               (&#x27;RandomForest&#x27;, RandomForestClassifier()),\n",
       "                               (&#x27;KNN&#x27;, KNeighborsClassifier())],\n",
       "                   final_estimator=LogisticRegression(random_state=1))</pre><b>In a Jupyter environment, please rerun this cell to show the HTML representation or trust the notebook. <br />On GitHub, the HTML representation is unable to render, please try loading this page with nbviewer.org.</b></div><div class=\"sk-container\" hidden><div class=\"sk-item sk-dashed-wrapped\"><div class=\"sk-label-container\"><div class=\"sk-label sk-toggleable\"><input class=\"sk-toggleable__control sk-hidden--visually\" id=\"sk-estimator-id-34\" type=\"checkbox\" ><label for=\"sk-estimator-id-34\" class=\"sk-toggleable__label sk-toggleable__label-arrow\">StackingClassifier</label><div class=\"sk-toggleable__content\"><pre>StackingClassifier(cv=10,\n",
       "                   estimators=[(&#x27;DecisionTree&#x27;,\n",
       "                                DecisionTreeClassifier(random_state=1)),\n",
       "                               (&#x27;SupportVector&#x27;, SVC()),\n",
       "                               (&#x27;RandomForest&#x27;, RandomForestClassifier()),\n",
       "                               (&#x27;KNN&#x27;, KNeighborsClassifier())],\n",
       "                   final_estimator=LogisticRegression(random_state=1))</pre></div></div></div><div class=\"sk-serial\"><div class=\"sk-item\"><div class=\"sk-parallel\"><div class=\"sk-parallel-item\"><div class=\"sk-item\"><div class=\"sk-label-container\"><div class=\"sk-label sk-toggleable\"><label>DecisionTree</label></div></div><div class=\"sk-serial\"><div class=\"sk-item\"><div class=\"sk-estimator sk-toggleable\"><input class=\"sk-toggleable__control sk-hidden--visually\" id=\"sk-estimator-id-35\" type=\"checkbox\" ><label for=\"sk-estimator-id-35\" class=\"sk-toggleable__label sk-toggleable__label-arrow\">DecisionTreeClassifier</label><div class=\"sk-toggleable__content\"><pre>DecisionTreeClassifier(random_state=1)</pre></div></div></div></div></div></div><div class=\"sk-parallel-item\"><div class=\"sk-item\"><div class=\"sk-label-container\"><div class=\"sk-label sk-toggleable\"><label>SupportVector</label></div></div><div class=\"sk-serial\"><div class=\"sk-item\"><div class=\"sk-estimator sk-toggleable\"><input class=\"sk-toggleable__control sk-hidden--visually\" id=\"sk-estimator-id-36\" type=\"checkbox\" ><label for=\"sk-estimator-id-36\" class=\"sk-toggleable__label sk-toggleable__label-arrow\">SVC</label><div class=\"sk-toggleable__content\"><pre>SVC()</pre></div></div></div></div></div></div><div class=\"sk-parallel-item\"><div class=\"sk-item\"><div class=\"sk-label-container\"><div class=\"sk-label sk-toggleable\"><label>RandomForest</label></div></div><div class=\"sk-serial\"><div class=\"sk-item\"><div class=\"sk-estimator sk-toggleable\"><input class=\"sk-toggleable__control sk-hidden--visually\" id=\"sk-estimator-id-37\" type=\"checkbox\" ><label for=\"sk-estimator-id-37\" class=\"sk-toggleable__label sk-toggleable__label-arrow\">RandomForestClassifier</label><div class=\"sk-toggleable__content\"><pre>RandomForestClassifier()</pre></div></div></div></div></div></div><div class=\"sk-parallel-item\"><div class=\"sk-item\"><div class=\"sk-label-container\"><div class=\"sk-label sk-toggleable\"><label>KNN</label></div></div><div class=\"sk-serial\"><div class=\"sk-item\"><div class=\"sk-estimator sk-toggleable\"><input class=\"sk-toggleable__control sk-hidden--visually\" id=\"sk-estimator-id-38\" type=\"checkbox\" ><label for=\"sk-estimator-id-38\" class=\"sk-toggleable__label sk-toggleable__label-arrow\">KNeighborsClassifier</label><div class=\"sk-toggleable__content\"><pre>KNeighborsClassifier()</pre></div></div></div></div></div></div></div></div><div class=\"sk-item\"><div class=\"sk-parallel\"><div class=\"sk-parallel-item\"><div class=\"sk-item\"><div class=\"sk-label-container\"><div class=\"sk-label sk-toggleable\"><label>final_estimator</label></div></div><div class=\"sk-serial\"><div class=\"sk-item\"><div class=\"sk-estimator sk-toggleable\"><input class=\"sk-toggleable__control sk-hidden--visually\" id=\"sk-estimator-id-39\" type=\"checkbox\" ><label for=\"sk-estimator-id-39\" class=\"sk-toggleable__label sk-toggleable__label-arrow\">LogisticRegression</label><div class=\"sk-toggleable__content\"><pre>LogisticRegression(random_state=1)</pre></div></div></div></div></div></div></div></div></div></div></div></div>"
      ],
      "text/plain": [
       "StackingClassifier(cv=10,\n",
       "                   estimators=[('DecisionTree',\n",
       "                                DecisionTreeClassifier(random_state=1)),\n",
       "                               ('SupportVector', SVC()),\n",
       "                               ('RandomForest', RandomForestClassifier()),\n",
       "                               ('KNN', KNeighborsClassifier())],\n",
       "                   final_estimator=LogisticRegression(random_state=1))"
      ]
     },
     "execution_count": 274,
     "metadata": {},
     "output_type": "execute_result"
    }
   ],
   "source": [
    "from sklearn.ensemble import StackingClassifier\n",
    "models= [(\"DecisionTree\",model_DTC_resampled), (\"SupportVector\", model_SVM_resampled), (\"RandomForest\",model_RFC_resampled), (\"KNN\",model_KNN_resampled)]\n",
    "stc_clf= StackingClassifier(estimators=models, final_estimator= lr_model, cv = 10)\n",
    "stc_clf.fit(X_resampled, y_resampled)\n",
    "\n"
   ]
  },
  {
   "cell_type": "code",
   "execution_count": 275,
   "id": "38bc89c0-cbc7-4aa3-8c23-d4609d35ee30",
   "metadata": {},
   "outputs": [
    {
     "name": "stdout",
     "output_type": "stream",
     "text": [
      "              precision    recall  f1-score   support\n",
      "\n",
      "           0       0.95      0.90      0.92      1203\n",
      "           1       0.11      0.21      0.15        75\n",
      "\n",
      "    accuracy                           0.86      1278\n",
      "   macro avg       0.53      0.55      0.53      1278\n",
      "weighted avg       0.90      0.86      0.88      1278\n",
      "\n"
     ]
    }
   ],
   "source": [
    "y_pred_stc_clf = stc_clf.predict(X_test)\n",
    "\n",
    "print(classification_report(y_test, y_pred_stc_clf))"
   ]
  },
  {
   "cell_type": "markdown",
   "id": "3557e057-4bb4-4388-a943-cec010525171",
   "metadata": {},
   "source": [
    "# Try a Neural Network"
   ]
  },
  {
   "cell_type": "code",
   "execution_count": 276,
   "id": "6604e64f-3d95-41df-b0c6-9f31351c60f7",
   "metadata": {},
   "outputs": [],
   "source": [
    "#Import tensorflow\n",
    "import tensorflow as tf\n",
    "from tensorflow.keras.layers import Dense\n",
    "from tensorflow.keras.models import Sequential\n"
   ]
  },
  {
   "cell_type": "code",
   "execution_count": 277,
   "id": "ada8bdab-8b10-412b-b897-4f5184ffc380",
   "metadata": {},
   "outputs": [],
   "source": [
    " # Define the the number of inputs (features) to the model\n",
    "number_input_features = X_resampled.shape[1]\n",
    "\n",
    "# Define the number of hidden nodes for the first hidden layer\n",
    "# Use the mean of the number of input features plus the number of output nurons\n",
    "# Use the Python floor division (//) to return the quotent\n",
    "hidden_nodes_layer1 =  (number_input_features + 1) // 2 \n",
    "\n",
    "# Define the number of hidden nodes for the second hidden layer\n",
    "# Use the mean of the number of hidden nodes in the first hidden layer plus the number of output nurons\n",
    "# Use the Python floor division (//) to return the quotent\n",
    "hidden_nodes_layer2 = (hidden_nodes_layer1 + 1) // 2\n",
    "\n",
    "# Create the Sequential model instance\n",
    "nn = Sequential()\n",
    "\n",
    "# Add the first hidden layer specifying the number of inputs, the number of hidden nodes, and the activation function\n",
    "nn.add(Dense(units=hidden_nodes_layer1, input_dim=number_input_features, activation=\"relu\"))\n",
    "\n",
    "# Add the second hidden layer specifying the number of hidden nodes and the activation function\n",
    "nn.add(Dense(units=hidden_nodes_layer2, activation=\"relu\"))\n",
    "\n",
    "# Add the output layer to the model specifying the number of output neurons and activation function\n",
    "nn.add(Dense(units=1, activation=\"sigmoid\"))"
   ]
  },
  {
   "cell_type": "code",
   "execution_count": 278,
   "id": "908ee8a2-3554-4e41-9461-640bb2682d7c",
   "metadata": {},
   "outputs": [
    {
     "name": "stdout",
     "output_type": "stream",
     "text": [
      "Model: \"sequential_10\"\n",
      "_________________________________________________________________\n",
      " Layer (type)                Output Shape              Param #   \n",
      "=================================================================\n",
      " dense_34 (Dense)            (None, 14)                392       \n",
      "                                                                 \n",
      " dense_35 (Dense)            (None, 7)                 105       \n",
      "                                                                 \n",
      " dense_36 (Dense)            (None, 1)                 8         \n",
      "                                                                 \n",
      "=================================================================\n",
      "Total params: 505 (1.97 KB)\n",
      "Trainable params: 505 (1.97 KB)\n",
      "Non-trainable params: 0 (0.00 Byte)\n",
      "_________________________________________________________________\n"
     ]
    }
   ],
   "source": [
    " # Display the Sequential model summary\n",
    "nn.summary() "
   ]
  },
  {
   "cell_type": "code",
   "execution_count": 279,
   "id": "c1c83c09-2b02-4f69-bc9a-7d796fe503b3",
   "metadata": {},
   "outputs": [],
   "source": [
    "# Compile the Sequential model\n",
    "nn.compile(loss=\"binary_crossentropy\", optimizer=\"adam\", metrics=[\"accuracy\",\n",
    "        tf.keras.metrics.Precision(name=\"precision\"),\n",
    "        tf.keras.metrics.Recall(name=\"recall\")\n",
    "    ]\n",
    ")"
   ]
  },
  {
   "cell_type": "code",
   "execution_count": 280,
   "id": "39b81275-4141-4016-b968-bf32106e4ca4",
   "metadata": {},
   "outputs": [
    {
     "name": "stdout",
     "output_type": "stream",
     "text": [
      "Epoch 1/100\n",
      "207/207 [==============================] - 2s 2ms/step - loss: 0.5550 - accuracy: 0.7233 - precision: 0.7012 - recall: 0.8387\n",
      "Epoch 2/100\n",
      "207/207 [==============================] - 0s 2ms/step - loss: 0.4336 - accuracy: 0.8157 - precision: 0.8002 - recall: 0.8722\n",
      "Epoch 3/100\n",
      "207/207 [==============================] - 0s 2ms/step - loss: 0.3761 - accuracy: 0.8380 - precision: 0.8216 - recall: 0.8893\n",
      "Epoch 4/100\n",
      "207/207 [==============================] - 0s 2ms/step - loss: 0.3474 - accuracy: 0.8493 - precision: 0.8296 - recall: 0.9029\n",
      "Epoch 5/100\n",
      "207/207 [==============================] - 0s 2ms/step - loss: 0.3322 - accuracy: 0.8536 - precision: 0.8335 - recall: 0.9066\n",
      "Epoch 6/100\n",
      "207/207 [==============================] - 0s 2ms/step - loss: 0.3195 - accuracy: 0.8592 - precision: 0.8377 - recall: 0.9128\n",
      "Epoch 7/100\n",
      "207/207 [==============================] - 0s 2ms/step - loss: 0.3087 - accuracy: 0.8655 - precision: 0.8442 - recall: 0.9171\n",
      "Epoch 8/100\n",
      "207/207 [==============================] - 0s 2ms/step - loss: 0.3000 - accuracy: 0.8664 - precision: 0.8439 - recall: 0.9196\n",
      "Epoch 9/100\n",
      "207/207 [==============================] - 0s 2ms/step - loss: 0.2919 - accuracy: 0.8710 - precision: 0.8500 - recall: 0.9205\n",
      "Epoch 10/100\n",
      "207/207 [==============================] - 0s 2ms/step - loss: 0.2844 - accuracy: 0.8724 - precision: 0.8500 - recall: 0.9236\n",
      "Epoch 11/100\n",
      "207/207 [==============================] - 0s 2ms/step - loss: 0.2770 - accuracy: 0.8795 - precision: 0.8564 - recall: 0.9299\n",
      "Epoch 12/100\n",
      "207/207 [==============================] - 0s 2ms/step - loss: 0.2709 - accuracy: 0.8839 - precision: 0.8634 - recall: 0.9293\n",
      "Epoch 13/100\n",
      "207/207 [==============================] - 0s 2ms/step - loss: 0.2648 - accuracy: 0.8854 - precision: 0.8631 - recall: 0.9330\n",
      "Epoch 14/100\n",
      "207/207 [==============================] - 0s 2ms/step - loss: 0.2598 - accuracy: 0.8908 - precision: 0.8673 - recall: 0.9390\n",
      "Epoch 15/100\n",
      "207/207 [==============================] - 0s 2ms/step - loss: 0.2544 - accuracy: 0.8929 - precision: 0.8699 - recall: 0.9398\n",
      "Epoch 16/100\n",
      "207/207 [==============================] - 0s 2ms/step - loss: 0.2502 - accuracy: 0.8940 - precision: 0.8709 - recall: 0.9407\n",
      "Epoch 17/100\n",
      "207/207 [==============================] - 0s 2ms/step - loss: 0.2459 - accuracy: 0.8958 - precision: 0.8719 - recall: 0.9432\n",
      "Epoch 18/100\n",
      "207/207 [==============================] - 0s 2ms/step - loss: 0.2417 - accuracy: 0.8976 - precision: 0.8739 - recall: 0.9443\n",
      "Epoch 19/100\n",
      "207/207 [==============================] - 0s 2ms/step - loss: 0.2384 - accuracy: 0.8985 - precision: 0.8741 - recall: 0.9461\n",
      "Epoch 20/100\n",
      "207/207 [==============================] - 0s 2ms/step - loss: 0.2350 - accuracy: 0.9032 - precision: 0.8788 - recall: 0.9495\n",
      "Epoch 21/100\n",
      "207/207 [==============================] - 0s 2ms/step - loss: 0.2305 - accuracy: 0.9057 - precision: 0.8813 - recall: 0.9512\n",
      "Epoch 22/100\n",
      "207/207 [==============================] - 0s 2ms/step - loss: 0.2264 - accuracy: 0.9045 - precision: 0.8807 - recall: 0.9495\n",
      "Epoch 23/100\n",
      "207/207 [==============================] - 0s 2ms/step - loss: 0.2227 - accuracy: 0.9088 - precision: 0.8873 - recall: 0.9497\n",
      "Epoch 24/100\n",
      "207/207 [==============================] - 0s 2ms/step - loss: 0.2200 - accuracy: 0.9116 - precision: 0.8868 - recall: 0.9563\n",
      "Epoch 25/100\n",
      "207/207 [==============================] - 0s 2ms/step - loss: 0.2161 - accuracy: 0.9107 - precision: 0.8854 - recall: 0.9563\n",
      "Epoch 26/100\n",
      "207/207 [==============================] - 0s 2ms/step - loss: 0.2137 - accuracy: 0.9119 - precision: 0.8877 - recall: 0.9557\n",
      "Epoch 27/100\n",
      "207/207 [==============================] - 0s 2ms/step - loss: 0.2103 - accuracy: 0.9155 - precision: 0.8912 - recall: 0.9585\n",
      "Epoch 28/100\n",
      "207/207 [==============================] - 0s 2ms/step - loss: 0.2064 - accuracy: 0.9175 - precision: 0.8933 - recall: 0.9600\n",
      "Epoch 29/100\n",
      "207/207 [==============================] - 0s 2ms/step - loss: 0.2031 - accuracy: 0.9176 - precision: 0.8918 - recall: 0.9622\n",
      "Epoch 30/100\n",
      "207/207 [==============================] - 0s 2ms/step - loss: 0.1995 - accuracy: 0.9185 - precision: 0.8947 - recall: 0.9602\n",
      "Epoch 31/100\n",
      "207/207 [==============================] - 0s 2ms/step - loss: 0.1968 - accuracy: 0.9207 - precision: 0.8970 - recall: 0.9617\n",
      "Epoch 32/100\n",
      "207/207 [==============================] - 0s 2ms/step - loss: 0.1940 - accuracy: 0.9210 - precision: 0.8979 - recall: 0.9611\n",
      "Epoch 33/100\n",
      "207/207 [==============================] - 0s 2ms/step - loss: 0.1911 - accuracy: 0.9229 - precision: 0.8989 - recall: 0.9639\n",
      "Epoch 34/100\n",
      "207/207 [==============================] - 0s 2ms/step - loss: 0.1880 - accuracy: 0.9261 - precision: 0.9007 - recall: 0.9682\n",
      "Epoch 35/100\n",
      "207/207 [==============================] - 0s 2ms/step - loss: 0.1842 - accuracy: 0.9253 - precision: 0.9029 - recall: 0.9637\n",
      "Epoch 36/100\n",
      "207/207 [==============================] - 0s 2ms/step - loss: 0.1836 - accuracy: 0.9246 - precision: 0.9021 - recall: 0.9631\n",
      "Epoch 37/100\n",
      "207/207 [==============================] - 0s 2ms/step - loss: 0.1797 - accuracy: 0.9276 - precision: 0.9046 - recall: 0.9662\n",
      "Epoch 38/100\n",
      "207/207 [==============================] - 0s 2ms/step - loss: 0.1782 - accuracy: 0.9294 - precision: 0.9086 - recall: 0.9648\n",
      "Epoch 39/100\n",
      "207/207 [==============================] - 1s 3ms/step - loss: 0.1755 - accuracy: 0.9300 - precision: 0.9078 - recall: 0.9671\n",
      "Epoch 40/100\n",
      "207/207 [==============================] - 0s 2ms/step - loss: 0.1748 - accuracy: 0.9320 - precision: 0.9094 - recall: 0.9691\n",
      "Epoch 41/100\n",
      "207/207 [==============================] - 0s 2ms/step - loss: 0.1722 - accuracy: 0.9322 - precision: 0.9090 - recall: 0.9699\n",
      "Epoch 42/100\n",
      "207/207 [==============================] - 0s 2ms/step - loss: 0.1698 - accuracy: 0.9346 - precision: 0.9109 - recall: 0.9725\n",
      "Epoch 43/100\n",
      "207/207 [==============================] - 0s 2ms/step - loss: 0.1676 - accuracy: 0.9323 - precision: 0.9110 - recall: 0.9676\n",
      "Epoch 44/100\n",
      "207/207 [==============================] - 0s 2ms/step - loss: 0.1666 - accuracy: 0.9353 - precision: 0.9137 - recall: 0.9705\n",
      "Epoch 45/100\n",
      "207/207 [==============================] - 0s 2ms/step - loss: 0.1660 - accuracy: 0.9343 - precision: 0.9144 - recall: 0.9673\n",
      "Epoch 46/100\n",
      "207/207 [==============================] - 0s 2ms/step - loss: 0.1634 - accuracy: 0.9366 - precision: 0.9152 - recall: 0.9710\n",
      "Epoch 47/100\n",
      "207/207 [==============================] - 0s 2ms/step - loss: 0.1615 - accuracy: 0.9370 - precision: 0.9170 - recall: 0.9696\n",
      "Epoch 48/100\n",
      "207/207 [==============================] - 0s 2ms/step - loss: 0.1597 - accuracy: 0.9388 - precision: 0.9166 - recall: 0.9739\n",
      "Epoch 49/100\n",
      "207/207 [==============================] - 0s 2ms/step - loss: 0.1581 - accuracy: 0.9385 - precision: 0.9181 - recall: 0.9713\n",
      "Epoch 50/100\n",
      "207/207 [==============================] - 0s 2ms/step - loss: 0.1559 - accuracy: 0.9403 - precision: 0.9211 - recall: 0.9713\n",
      "Epoch 51/100\n",
      "207/207 [==============================] - 0s 2ms/step - loss: 0.1546 - accuracy: 0.9397 - precision: 0.9197 - recall: 0.9719\n",
      "Epoch 52/100\n",
      "207/207 [==============================] - 0s 2ms/step - loss: 0.1538 - accuracy: 0.9397 - precision: 0.9208 - recall: 0.9705\n",
      "Epoch 53/100\n",
      "207/207 [==============================] - 0s 2ms/step - loss: 0.1529 - accuracy: 0.9414 - precision: 0.9238 - recall: 0.9702\n",
      "Epoch 54/100\n",
      "207/207 [==============================] - 0s 2ms/step - loss: 0.1499 - accuracy: 0.9435 - precision: 0.9247 - recall: 0.9733\n",
      "Epoch 55/100\n",
      "207/207 [==============================] - 0s 2ms/step - loss: 0.1495 - accuracy: 0.9437 - precision: 0.9250 - recall: 0.9733\n",
      "Epoch 56/100\n",
      "207/207 [==============================] - 0s 2ms/step - loss: 0.1482 - accuracy: 0.9437 - precision: 0.9248 - recall: 0.9736\n",
      "Epoch 57/100\n",
      "207/207 [==============================] - 0s 2ms/step - loss: 0.1466 - accuracy: 0.9456 - precision: 0.9262 - recall: 0.9759\n",
      "Epoch 58/100\n",
      "207/207 [==============================] - 0s 2ms/step - loss: 0.1455 - accuracy: 0.9434 - precision: 0.9238 - recall: 0.9742\n",
      "Epoch 59/100\n",
      "207/207 [==============================] - 0s 2ms/step - loss: 0.1455 - accuracy: 0.9470 - precision: 0.9268 - recall: 0.9779\n",
      "Epoch 60/100\n",
      "207/207 [==============================] - 0s 2ms/step - loss: 0.1433 - accuracy: 0.9456 - precision: 0.9273 - recall: 0.9744\n",
      "Epoch 61/100\n",
      "207/207 [==============================] - 0s 2ms/step - loss: 0.1424 - accuracy: 0.9459 - precision: 0.9264 - recall: 0.9761\n",
      "Epoch 62/100\n",
      "207/207 [==============================] - 0s 2ms/step - loss: 0.1420 - accuracy: 0.9456 - precision: 0.9271 - recall: 0.9747\n",
      "Epoch 63/100\n",
      "207/207 [==============================] - 0s 2ms/step - loss: 0.1407 - accuracy: 0.9461 - precision: 0.9281 - recall: 0.9744\n",
      "Epoch 64/100\n",
      "207/207 [==============================] - 0s 2ms/step - loss: 0.1397 - accuracy: 0.9472 - precision: 0.9284 - recall: 0.9761\n",
      "Epoch 65/100\n",
      "207/207 [==============================] - 0s 2ms/step - loss: 0.1387 - accuracy: 0.9481 - precision: 0.9299 - recall: 0.9761\n",
      "Epoch 66/100\n",
      "207/207 [==============================] - 0s 2ms/step - loss: 0.1382 - accuracy: 0.9475 - precision: 0.9282 - recall: 0.9770\n",
      "Epoch 67/100\n",
      "207/207 [==============================] - 0s 2ms/step - loss: 0.1348 - accuracy: 0.9496 - precision: 0.9322 - recall: 0.9764\n",
      "Epoch 68/100\n",
      "207/207 [==============================] - 0s 2ms/step - loss: 0.1364 - accuracy: 0.9481 - precision: 0.9297 - recall: 0.9764\n",
      "Epoch 69/100\n",
      "207/207 [==============================] - 0s 2ms/step - loss: 0.1349 - accuracy: 0.9502 - precision: 0.9325 - recall: 0.9773\n",
      "Epoch 70/100\n",
      "207/207 [==============================] - 0s 2ms/step - loss: 0.1342 - accuracy: 0.9511 - precision: 0.9336 - recall: 0.9779\n",
      "Epoch 71/100\n",
      "207/207 [==============================] - 0s 2ms/step - loss: 0.1332 - accuracy: 0.9525 - precision: 0.9363 - recall: 0.9773\n",
      "Epoch 72/100\n",
      "207/207 [==============================] - 0s 2ms/step - loss: 0.1323 - accuracy: 0.9522 - precision: 0.9339 - recall: 0.9796\n",
      "Epoch 73/100\n",
      "207/207 [==============================] - 0s 2ms/step - loss: 0.1317 - accuracy: 0.9518 - precision: 0.9356 - recall: 0.9770\n",
      "Epoch 74/100\n",
      "207/207 [==============================] - 0s 2ms/step - loss: 0.1306 - accuracy: 0.9520 - precision: 0.9351 - recall: 0.9779\n",
      "Epoch 75/100\n",
      "207/207 [==============================] - 0s 2ms/step - loss: 0.1301 - accuracy: 0.9512 - precision: 0.9345 - recall: 0.9770\n",
      "Epoch 76/100\n",
      "207/207 [==============================] - 0s 2ms/step - loss: 0.1289 - accuracy: 0.9534 - precision: 0.9355 - recall: 0.9801\n",
      "Epoch 77/100\n",
      "207/207 [==============================] - 0s 2ms/step - loss: 0.1280 - accuracy: 0.9522 - precision: 0.9347 - recall: 0.9787\n",
      "Epoch 78/100\n",
      "207/207 [==============================] - 0s 2ms/step - loss: 0.1280 - accuracy: 0.9541 - precision: 0.9370 - recall: 0.9798\n",
      "Epoch 79/100\n",
      "207/207 [==============================] - 0s 2ms/step - loss: 0.1265 - accuracy: 0.9550 - precision: 0.9393 - recall: 0.9790\n",
      "Epoch 80/100\n",
      "207/207 [==============================] - 0s 2ms/step - loss: 0.1258 - accuracy: 0.9541 - precision: 0.9354 - recall: 0.9818\n",
      "Epoch 81/100\n",
      "207/207 [==============================] - 0s 2ms/step - loss: 0.1254 - accuracy: 0.9529 - precision: 0.9357 - recall: 0.9790\n",
      "Epoch 82/100\n",
      "207/207 [==============================] - 0s 2ms/step - loss: 0.1251 - accuracy: 0.9555 - precision: 0.9386 - recall: 0.9807\n",
      "Epoch 83/100\n",
      "207/207 [==============================] - 0s 2ms/step - loss: 0.1233 - accuracy: 0.9553 - precision: 0.9386 - recall: 0.9804\n",
      "Epoch 84/100\n",
      "207/207 [==============================] - 0s 2ms/step - loss: 0.1246 - accuracy: 0.9543 - precision: 0.9370 - recall: 0.9801\n",
      "Epoch 85/100\n",
      "207/207 [==============================] - 0s 2ms/step - loss: 0.1231 - accuracy: 0.9553 - precision: 0.9393 - recall: 0.9796\n",
      "Epoch 86/100\n",
      "207/207 [==============================] - 0s 2ms/step - loss: 0.1230 - accuracy: 0.9561 - precision: 0.9391 - recall: 0.9813\n",
      "Epoch 87/100\n",
      "207/207 [==============================] - 0s 2ms/step - loss: 0.1209 - accuracy: 0.9552 - precision: 0.9374 - recall: 0.9815\n",
      "Epoch 88/100\n",
      "207/207 [==============================] - 0s 2ms/step - loss: 0.1210 - accuracy: 0.9573 - precision: 0.9400 - recall: 0.9827\n",
      "Epoch 89/100\n",
      "207/207 [==============================] - 0s 2ms/step - loss: 0.1205 - accuracy: 0.9578 - precision: 0.9391 - recall: 0.9847\n",
      "Epoch 90/100\n",
      "207/207 [==============================] - 0s 2ms/step - loss: 0.1204 - accuracy: 0.9573 - precision: 0.9400 - recall: 0.9827\n",
      "Epoch 91/100\n",
      "207/207 [==============================] - 0s 2ms/step - loss: 0.1192 - accuracy: 0.9564 - precision: 0.9389 - recall: 0.9821\n",
      "Epoch 92/100\n",
      "207/207 [==============================] - 0s 2ms/step - loss: 0.1188 - accuracy: 0.9562 - precision: 0.9372 - recall: 0.9838\n",
      "Epoch 93/100\n",
      "207/207 [==============================] - 0s 2ms/step - loss: 0.1186 - accuracy: 0.9581 - precision: 0.9422 - recall: 0.9815\n",
      "Epoch 94/100\n",
      "207/207 [==============================] - 0s 2ms/step - loss: 0.1164 - accuracy: 0.9576 - precision: 0.9395 - recall: 0.9838\n",
      "Epoch 95/100\n",
      "207/207 [==============================] - 0s 2ms/step - loss: 0.1161 - accuracy: 0.9584 - precision: 0.9420 - recall: 0.9824\n",
      "Epoch 96/100\n",
      "207/207 [==============================] - 0s 2ms/step - loss: 0.1157 - accuracy: 0.9590 - precision: 0.9406 - recall: 0.9852\n",
      "Epoch 97/100\n",
      "207/207 [==============================] - 0s 2ms/step - loss: 0.1147 - accuracy: 0.9585 - precision: 0.9425 - recall: 0.9821\n",
      "Epoch 98/100\n",
      "207/207 [==============================] - 0s 2ms/step - loss: 0.1145 - accuracy: 0.9596 - precision: 0.9419 - recall: 0.9850\n",
      "Epoch 99/100\n",
      "207/207 [==============================] - 0s 2ms/step - loss: 0.1144 - accuracy: 0.9591 - precision: 0.9426 - recall: 0.9832\n",
      "Epoch 100/100\n",
      "207/207 [==============================] - 0s 2ms/step - loss: 0.1124 - accuracy: 0.9609 - precision: 0.9442 - recall: 0.9850\n"
     ]
    }
   ],
   "source": [
    "# Fit the model using 100 epochs and the training data\n",
    "fit_model = nn.fit(X_resampled, y_resampled, epochs=100)"
   ]
  },
  {
   "cell_type": "code",
   "execution_count": 281,
   "id": "2b6def54-12e6-4a2f-8564-4d209cff3d85",
   "metadata": {},
   "outputs": [
    {
     "name": "stdout",
     "output_type": "stream",
     "text": [
      "Loss: 1.0551592111587524, Accuracy: 0.7910798192024231 Precision: 0.11599999666213989. Recall: 0.3866666555404663\n"
     ]
    }
   ],
   "source": [
    " # Evaluate the model loss and accuracy metrics using the evaluate method and the test data\n",
    "model_loss, model_accuracy, model_precision, model_recall = nn.evaluate(X_test,y_test,verbose=4)\n",
    "\n",
    "# Display the model loss and accuracy results\n",
    "print(f\"Loss: {model_loss}, Accuracy: {model_accuracy} Precision: {model_precision}. Recall: {model_recall}\")"
   ]
  },
  {
   "cell_type": "code",
   "execution_count": 438,
   "id": "1ebbc391-7723-41e4-9284-ba7aad7a1aa3",
   "metadata": {},
   "outputs": [],
   "source": [
    "import tensorflow as tf\n",
    "from tensorflow.keras.layers import Dense\n",
    "from tensorflow.keras.models import Sequential\n"
   ]
  },
  {
   "cell_type": "code",
   "execution_count": 439,
   "id": "397c32e3-7966-4465-bbf3-80fb84a825c3",
   "metadata": {},
   "outputs": [],
   "source": [
    "from keras.layers import Dropout\n",
    "# Import regularizers\n",
    "from keras.regularizers import l1, l2"
   ]
  },
  {
   "cell_type": "code",
   "execution_count": 508,
   "id": "a423e197-fcbc-42e7-9fe8-2c88617e83bb",
   "metadata": {},
   "outputs": [],
   "source": [
    "number_input_features = X_resampled.shape[1]\n",
    "\n",
    "# Define the number of hidden nodes for the first hidden layer\n",
    "# Use the mean of the number of input features plus the number of output nurons\n",
    "# Use the Python floor division (//) to return the quotent\n",
    "hidden_nodes_layer1 = 12\n",
    "\n",
    "# Define the number of hidden nodes for the second hidden layer\n",
    "# Use the mean of the number of hidden nodes in the first hidden layer plus the number of output nurons\n",
    "# Use the Python floor division (//) to return the quotent\n",
    "hidden_nodes_layer2 = 6\n",
    "\n",
    "# Create the Sequential model instance\n",
    "nn = Sequential()\n",
    "\n",
    "# Add the first hidden layer specifying the number of inputs, the number of hidden nodes, and the activation function\n",
    "nn.add(Dense(units=hidden_nodes_layer1, input_dim=number_input_features, activation=\"relu\"))\n",
    "\n",
    "\n",
    "\n",
    "\n",
    "# Add the second hidden layer specifying the number of hidden nodes and the activation function\n",
    "nn.add(Dense(units=hidden_nodes_layer2, activation='relu'))\n",
    "\n",
    "\n",
    "# Add the output layer to the model specifying the number of output neurons and activation function\n",
    "nn.add(Dense(units=1, activation=\"sigmoid\"))"
   ]
  },
  {
   "cell_type": "code",
   "execution_count": 509,
   "id": "8eeb5942-9519-42fc-944f-1f6b27c36400",
   "metadata": {},
   "outputs": [],
   "source": [
    "nn.compile(\n",
    "    loss=\"binary_crossentropy\",\n",
    "    optimizer=\"adam\",\n",
    "    metrics=[\n",
    "        \"accuracy\",\n",
    "        tf.keras.metrics.TruePositives(name=\"tp\"),\n",
    "        tf.keras.metrics.TrueNegatives(name=\"tn\"),\n",
    "        tf.keras.metrics.FalsePositives(name=\"fp\"),\n",
    "        tf.keras.metrics.FalseNegatives(name=\"fn\"),\n",
    "        tf.keras.metrics.Precision(name=\"precision\"),\n",
    "        tf.keras.metrics.Recall(name=\"recall\"),\n",
    "        tf.keras.metrics.AUC(name=\"auc\"),\n",
    "    ],\n",
    ")"
   ]
  },
  {
   "cell_type": "code",
   "execution_count": 505,
   "id": "5a690732-3dfe-49a3-a631-d9b35c9ba7d2",
   "metadata": {},
   "outputs": [
    {
     "name": "stdout",
     "output_type": "stream",
     "text": [
      "Model: \"sequential_27\"\n",
      "_________________________________________________________________\n",
      " Layer (type)                Output Shape              Param #   \n",
      "=================================================================\n",
      " dense_85 (Dense)            (None, 10)                280       \n",
      "                                                                 \n",
      " dense_86 (Dense)            (None, 5)                 55        \n",
      "                                                                 \n",
      " dense_87 (Dense)            (None, 1)                 6         \n",
      "                                                                 \n",
      "=================================================================\n",
      "Total params: 341 (1.33 KB)\n",
      "Trainable params: 341 (1.33 KB)\n",
      "Non-trainable params: 0 (0.00 Byte)\n",
      "_________________________________________________________________\n"
     ]
    }
   ],
   "source": [
    "nn.summary()"
   ]
  },
  {
   "cell_type": "code",
   "execution_count": 510,
   "id": "bb73c52f-fa96-4eb7-96f5-0b27c91f8743",
   "metadata": {},
   "outputs": [
    {
     "name": "stdout",
     "output_type": "stream",
     "text": [
      "Epoch 1/100\n",
      "13/13 [==============================] - 2s 43ms/step - loss: 0.7554 - accuracy: 0.4763 - tp: 55.0000 - tn: 1770.0000 - fp: 1888.0000 - fn: 119.0000 - precision: 0.0283 - recall: 0.3161 - auc: 0.3880 - val_loss: 0.6920 - val_accuracy: 0.5790 - val_tp: 25.0000 - val_tn: 715.0000 - val_fp: 488.0000 - val_fn: 50.0000 - val_precision: 0.0487 - val_recall: 0.3333 - val_auc: 0.4676\n",
      "Epoch 2/100\n",
      "13/13 [==============================] - 0s 8ms/step - loss: 0.6463 - accuracy: 0.6521 - tp: 36.0000 - tn: 2463.0000 - fp: 1195.0000 - fn: 138.0000 - precision: 0.0292 - recall: 0.2069 - auc: 0.4103 - val_loss: 0.6063 - val_accuracy: 0.7183 - val_tp: 15.0000 - val_tn: 903.0000 - val_fp: 300.0000 - val_fn: 60.0000 - val_precision: 0.0476 - val_recall: 0.2000 - val_auc: 0.4645\n",
      "Epoch 3/100\n",
      "13/13 [==============================] - 0s 9ms/step - loss: 0.5668 - accuracy: 0.7860 - tp: 13.0000 - tn: 2999.0000 - fp: 659.0000 - fn: 161.0000 - precision: 0.0193 - recall: 0.0747 - auc: 0.4168 - val_loss: 0.5426 - val_accuracy: 0.8318 - val_tp: 7.0000 - val_tn: 1056.0000 - val_fp: 147.0000 - val_fn: 68.0000 - val_precision: 0.0455 - val_recall: 0.0933 - val_auc: 0.4504\n",
      "Epoch 4/100\n",
      "13/13 [==============================] - 0s 7ms/step - loss: 0.5059 - accuracy: 0.8742 - tp: 5.0000 - tn: 3345.0000 - fp: 313.0000 - fn: 169.0000 - precision: 0.0157 - recall: 0.0287 - auc: 0.4132 - val_loss: 0.4910 - val_accuracy: 0.8834 - val_tp: 3.0000 - val_tn: 1126.0000 - val_fp: 77.0000 - val_fn: 72.0000 - val_precision: 0.0375 - val_recall: 0.0400 - val_auc: 0.4302\n",
      "Epoch 5/100\n",
      "13/13 [==============================] - 0s 9ms/step - loss: 0.4548 - accuracy: 0.9123 - tp: 2.0000 - tn: 3494.0000 - fp: 164.0000 - fn: 172.0000 - precision: 0.0120 - recall: 0.0115 - auc: 0.4113 - val_loss: 0.4474 - val_accuracy: 0.9155 - val_tp: 0.0000e+00 - val_tn: 1170.0000 - val_fp: 33.0000 - val_fn: 75.0000 - val_precision: 0.0000e+00 - val_recall: 0.0000e+00 - val_auc: 0.4159\n",
      "Epoch 6/100\n",
      "13/13 [==============================] - 0s 8ms/step - loss: 0.4112 - accuracy: 0.9366 - tp: 1.0000 - tn: 3588.0000 - fp: 70.0000 - fn: 173.0000 - precision: 0.0141 - recall: 0.0057 - auc: 0.4071 - val_loss: 0.4094 - val_accuracy: 0.9311 - val_tp: 0.0000e+00 - val_tn: 1190.0000 - val_fp: 13.0000 - val_fn: 75.0000 - val_precision: 0.0000e+00 - val_recall: 0.0000e+00 - val_auc: 0.4109\n",
      "Epoch 7/100\n",
      "13/13 [==============================] - 0s 8ms/step - loss: 0.3733 - accuracy: 0.9455 - tp: 0.0000e+00 - tn: 3623.0000 - fp: 35.0000 - fn: 174.0000 - precision: 0.0000e+00 - recall: 0.0000e+00 - auc: 0.4092 - val_loss: 0.3765 - val_accuracy: 0.9382 - val_tp: 0.0000e+00 - val_tn: 1199.0000 - val_fp: 4.0000 - val_fn: 75.0000 - val_precision: 0.0000e+00 - val_recall: 0.0000e+00 - val_auc: 0.4077\n",
      "Epoch 8/100\n",
      "13/13 [==============================] - 0s 9ms/step - loss: 0.3397 - accuracy: 0.9502 - tp: 0.0000e+00 - tn: 3641.0000 - fp: 17.0000 - fn: 174.0000 - precision: 0.0000e+00 - recall: 0.0000e+00 - auc: 0.4227 - val_loss: 0.3475 - val_accuracy: 0.9382 - val_tp: 0.0000e+00 - val_tn: 1199.0000 - val_fp: 4.0000 - val_fn: 75.0000 - val_precision: 0.0000e+00 - val_recall: 0.0000e+00 - val_auc: 0.4140\n",
      "Epoch 9/100\n",
      "13/13 [==============================] - 0s 8ms/step - loss: 0.3101 - accuracy: 0.9515 - tp: 0.0000e+00 - tn: 3646.0000 - fp: 12.0000 - fn: 174.0000 - precision: 0.0000e+00 - recall: 0.0000e+00 - auc: 0.4325 - val_loss: 0.3217 - val_accuracy: 0.9405 - val_tp: 0.0000e+00 - val_tn: 1202.0000 - val_fp: 1.0000 - val_fn: 75.0000 - val_precision: 0.0000e+00 - val_recall: 0.0000e+00 - val_auc: 0.4244\n",
      "Epoch 10/100\n",
      "13/13 [==============================] - 0s 8ms/step - loss: 0.2834 - accuracy: 0.9533 - tp: 0.0000e+00 - tn: 3653.0000 - fp: 5.0000 - fn: 174.0000 - precision: 0.0000e+00 - recall: 0.0000e+00 - auc: 0.4529 - val_loss: 0.3001 - val_accuracy: 0.9413 - val_tp: 0.0000e+00 - val_tn: 1203.0000 - val_fp: 0.0000e+00 - val_fn: 75.0000 - val_precision: 0.0000e+00 - val_recall: 0.0000e+00 - val_auc: 0.4436\n",
      "Epoch 11/100\n",
      "13/13 [==============================] - 0s 8ms/step - loss: 0.2613 - accuracy: 0.9541 - tp: 0.0000e+00 - tn: 3656.0000 - fp: 2.0000 - fn: 174.0000 - precision: 0.0000e+00 - recall: 0.0000e+00 - auc: 0.4765 - val_loss: 0.2829 - val_accuracy: 0.9413 - val_tp: 0.0000e+00 - val_tn: 1203.0000 - val_fp: 0.0000e+00 - val_fn: 75.0000 - val_precision: 0.0000e+00 - val_recall: 0.0000e+00 - val_auc: 0.4554\n",
      "Epoch 12/100\n",
      "13/13 [==============================] - 0s 14ms/step - loss: 0.2432 - accuracy: 0.9543 - tp: 0.0000e+00 - tn: 3657.0000 - fp: 1.0000 - fn: 174.0000 - precision: 0.0000e+00 - recall: 0.0000e+00 - auc: 0.5012 - val_loss: 0.2683 - val_accuracy: 0.9413 - val_tp: 0.0000e+00 - val_tn: 1203.0000 - val_fp: 0.0000e+00 - val_fn: 75.0000 - val_precision: 0.0000e+00 - val_recall: 0.0000e+00 - val_auc: 0.4748\n",
      "Epoch 13/100\n",
      "13/13 [==============================] - 0s 8ms/step - loss: 0.2280 - accuracy: 0.9546 - tp: 0.0000e+00 - tn: 3658.0000 - fp: 0.0000e+00 - fn: 174.0000 - precision: 0.0000e+00 - recall: 0.0000e+00 - auc: 0.5312 - val_loss: 0.2567 - val_accuracy: 0.9413 - val_tp: 0.0000e+00 - val_tn: 1203.0000 - val_fp: 0.0000e+00 - val_fn: 75.0000 - val_precision: 0.0000e+00 - val_recall: 0.0000e+00 - val_auc: 0.4963\n",
      "Epoch 14/100\n",
      "13/13 [==============================] - 0s 8ms/step - loss: 0.2158 - accuracy: 0.9546 - tp: 0.0000e+00 - tn: 3658.0000 - fp: 0.0000e+00 - fn: 174.0000 - precision: 0.0000e+00 - recall: 0.0000e+00 - auc: 0.5610 - val_loss: 0.2476 - val_accuracy: 0.9413 - val_tp: 0.0000e+00 - val_tn: 1203.0000 - val_fp: 0.0000e+00 - val_fn: 75.0000 - val_precision: 0.0000e+00 - val_recall: 0.0000e+00 - val_auc: 0.5152\n",
      "Epoch 15/100\n",
      "13/13 [==============================] - 0s 8ms/step - loss: 0.2058 - accuracy: 0.9546 - tp: 0.0000e+00 - tn: 3658.0000 - fp: 0.0000e+00 - fn: 174.0000 - precision: 0.0000e+00 - recall: 0.0000e+00 - auc: 0.5886 - val_loss: 0.2402 - val_accuracy: 0.9413 - val_tp: 0.0000e+00 - val_tn: 1203.0000 - val_fp: 0.0000e+00 - val_fn: 75.0000 - val_precision: 0.0000e+00 - val_recall: 0.0000e+00 - val_auc: 0.5367\n",
      "Epoch 16/100\n",
      "13/13 [==============================] - 0s 7ms/step - loss: 0.1978 - accuracy: 0.9546 - tp: 0.0000e+00 - tn: 3658.0000 - fp: 0.0000e+00 - fn: 174.0000 - precision: 0.0000e+00 - recall: 0.0000e+00 - auc: 0.6154 - val_loss: 0.2343 - val_accuracy: 0.9413 - val_tp: 0.0000e+00 - val_tn: 1203.0000 - val_fp: 0.0000e+00 - val_fn: 75.0000 - val_precision: 0.0000e+00 - val_recall: 0.0000e+00 - val_auc: 0.5577\n",
      "Epoch 17/100\n",
      "13/13 [==============================] - 0s 8ms/step - loss: 0.1915 - accuracy: 0.9546 - tp: 0.0000e+00 - tn: 3658.0000 - fp: 0.0000e+00 - fn: 174.0000 - precision: 0.0000e+00 - recall: 0.0000e+00 - auc: 0.6399 - val_loss: 0.2296 - val_accuracy: 0.9413 - val_tp: 0.0000e+00 - val_tn: 1203.0000 - val_fp: 0.0000e+00 - val_fn: 75.0000 - val_precision: 0.0000e+00 - val_recall: 0.0000e+00 - val_auc: 0.5831\n",
      "Epoch 18/100\n",
      "13/13 [==============================] - 0s 8ms/step - loss: 0.1864 - accuracy: 0.9546 - tp: 0.0000e+00 - tn: 3658.0000 - fp: 0.0000e+00 - fn: 174.0000 - precision: 0.0000e+00 - recall: 0.0000e+00 - auc: 0.6637 - val_loss: 0.2255 - val_accuracy: 0.9413 - val_tp: 0.0000e+00 - val_tn: 1203.0000 - val_fp: 0.0000e+00 - val_fn: 75.0000 - val_precision: 0.0000e+00 - val_recall: 0.0000e+00 - val_auc: 0.6057\n",
      "Epoch 19/100\n",
      "13/13 [==============================] - 0s 7ms/step - loss: 0.1821 - accuracy: 0.9546 - tp: 0.0000e+00 - tn: 3658.0000 - fp: 0.0000e+00 - fn: 174.0000 - precision: 0.0000e+00 - recall: 0.0000e+00 - auc: 0.6818 - val_loss: 0.2228 - val_accuracy: 0.9413 - val_tp: 0.0000e+00 - val_tn: 1203.0000 - val_fp: 0.0000e+00 - val_fn: 75.0000 - val_precision: 0.0000e+00 - val_recall: 0.0000e+00 - val_auc: 0.6226\n",
      "Epoch 20/100\n",
      "13/13 [==============================] - 0s 8ms/step - loss: 0.1788 - accuracy: 0.9546 - tp: 0.0000e+00 - tn: 3658.0000 - fp: 0.0000e+00 - fn: 174.0000 - precision: 0.0000e+00 - recall: 0.0000e+00 - auc: 0.6991 - val_loss: 0.2199 - val_accuracy: 0.9413 - val_tp: 0.0000e+00 - val_tn: 1203.0000 - val_fp: 0.0000e+00 - val_fn: 75.0000 - val_precision: 0.0000e+00 - val_recall: 0.0000e+00 - val_auc: 0.6403\n",
      "Epoch 21/100\n",
      "13/13 [==============================] - 0s 7ms/step - loss: 0.1758 - accuracy: 0.9546 - tp: 0.0000e+00 - tn: 3658.0000 - fp: 0.0000e+00 - fn: 174.0000 - precision: 0.0000e+00 - recall: 0.0000e+00 - auc: 0.7108 - val_loss: 0.2180 - val_accuracy: 0.9413 - val_tp: 0.0000e+00 - val_tn: 1203.0000 - val_fp: 0.0000e+00 - val_fn: 75.0000 - val_precision: 0.0000e+00 - val_recall: 0.0000e+00 - val_auc: 0.6509\n",
      "Epoch 22/100\n",
      "13/13 [==============================] - 0s 8ms/step - loss: 0.1734 - accuracy: 0.9546 - tp: 0.0000e+00 - tn: 3658.0000 - fp: 0.0000e+00 - fn: 174.0000 - precision: 0.0000e+00 - recall: 0.0000e+00 - auc: 0.7229 - val_loss: 0.2161 - val_accuracy: 0.9413 - val_tp: 0.0000e+00 - val_tn: 1203.0000 - val_fp: 0.0000e+00 - val_fn: 75.0000 - val_precision: 0.0000e+00 - val_recall: 0.0000e+00 - val_auc: 0.6656\n",
      "Epoch 23/100\n",
      "13/13 [==============================] - 0s 7ms/step - loss: 0.1713 - accuracy: 0.9546 - tp: 0.0000e+00 - tn: 3658.0000 - fp: 0.0000e+00 - fn: 174.0000 - precision: 0.0000e+00 - recall: 0.0000e+00 - auc: 0.7340 - val_loss: 0.2148 - val_accuracy: 0.9413 - val_tp: 0.0000e+00 - val_tn: 1203.0000 - val_fp: 0.0000e+00 - val_fn: 75.0000 - val_precision: 0.0000e+00 - val_recall: 0.0000e+00 - val_auc: 0.6745\n",
      "Epoch 24/100\n",
      "13/13 [==============================] - 0s 7ms/step - loss: 0.1696 - accuracy: 0.9546 - tp: 0.0000e+00 - tn: 3658.0000 - fp: 0.0000e+00 - fn: 174.0000 - precision: 0.0000e+00 - recall: 0.0000e+00 - auc: 0.7423 - val_loss: 0.2132 - val_accuracy: 0.9413 - val_tp: 0.0000e+00 - val_tn: 1203.0000 - val_fp: 0.0000e+00 - val_fn: 75.0000 - val_precision: 0.0000e+00 - val_recall: 0.0000e+00 - val_auc: 0.6869\n",
      "Epoch 25/100\n",
      "13/13 [==============================] - 0s 7ms/step - loss: 0.1679 - accuracy: 0.9546 - tp: 0.0000e+00 - tn: 3658.0000 - fp: 0.0000e+00 - fn: 174.0000 - precision: 0.0000e+00 - recall: 0.0000e+00 - auc: 0.7509 - val_loss: 0.2123 - val_accuracy: 0.9413 - val_tp: 0.0000e+00 - val_tn: 1203.0000 - val_fp: 0.0000e+00 - val_fn: 75.0000 - val_precision: 0.0000e+00 - val_recall: 0.0000e+00 - val_auc: 0.6938\n",
      "Epoch 26/100\n",
      "13/13 [==============================] - 0s 7ms/step - loss: 0.1665 - accuracy: 0.9546 - tp: 0.0000e+00 - tn: 3658.0000 - fp: 0.0000e+00 - fn: 174.0000 - precision: 0.0000e+00 - recall: 0.0000e+00 - auc: 0.7578 - val_loss: 0.2114 - val_accuracy: 0.9413 - val_tp: 0.0000e+00 - val_tn: 1203.0000 - val_fp: 0.0000e+00 - val_fn: 75.0000 - val_precision: 0.0000e+00 - val_recall: 0.0000e+00 - val_auc: 0.7002\n",
      "Epoch 27/100\n",
      "13/13 [==============================] - 0s 7ms/step - loss: 0.1652 - accuracy: 0.9546 - tp: 0.0000e+00 - tn: 3658.0000 - fp: 0.0000e+00 - fn: 174.0000 - precision: 0.0000e+00 - recall: 0.0000e+00 - auc: 0.7643 - val_loss: 0.2104 - val_accuracy: 0.9413 - val_tp: 0.0000e+00 - val_tn: 1203.0000 - val_fp: 0.0000e+00 - val_fn: 75.0000 - val_precision: 0.0000e+00 - val_recall: 0.0000e+00 - val_auc: 0.7063\n",
      "Epoch 28/100\n",
      "13/13 [==============================] - 0s 8ms/step - loss: 0.1640 - accuracy: 0.9546 - tp: 0.0000e+00 - tn: 3658.0000 - fp: 0.0000e+00 - fn: 174.0000 - precision: 0.0000e+00 - recall: 0.0000e+00 - auc: 0.7698 - val_loss: 0.2097 - val_accuracy: 0.9413 - val_tp: 0.0000e+00 - val_tn: 1203.0000 - val_fp: 0.0000e+00 - val_fn: 75.0000 - val_precision: 0.0000e+00 - val_recall: 0.0000e+00 - val_auc: 0.7122\n",
      "Epoch 29/100\n",
      "13/13 [==============================] - 0s 7ms/step - loss: 0.1629 - accuracy: 0.9546 - tp: 0.0000e+00 - tn: 3658.0000 - fp: 0.0000e+00 - fn: 174.0000 - precision: 0.0000e+00 - recall: 0.0000e+00 - auc: 0.7755 - val_loss: 0.2092 - val_accuracy: 0.9413 - val_tp: 0.0000e+00 - val_tn: 1203.0000 - val_fp: 0.0000e+00 - val_fn: 75.0000 - val_precision: 0.0000e+00 - val_recall: 0.0000e+00 - val_auc: 0.7170\n",
      "Epoch 30/100\n",
      "13/13 [==============================] - 0s 8ms/step - loss: 0.1620 - accuracy: 0.9546 - tp: 0.0000e+00 - tn: 3658.0000 - fp: 0.0000e+00 - fn: 174.0000 - precision: 0.0000e+00 - recall: 0.0000e+00 - auc: 0.7798 - val_loss: 0.2086 - val_accuracy: 0.9413 - val_tp: 0.0000e+00 - val_tn: 1203.0000 - val_fp: 0.0000e+00 - val_fn: 75.0000 - val_precision: 0.0000e+00 - val_recall: 0.0000e+00 - val_auc: 0.7207\n",
      "Epoch 31/100\n",
      "13/13 [==============================] - 0s 7ms/step - loss: 0.1611 - accuracy: 0.9546 - tp: 0.0000e+00 - tn: 3658.0000 - fp: 0.0000e+00 - fn: 174.0000 - precision: 0.0000e+00 - recall: 0.0000e+00 - auc: 0.7843 - val_loss: 0.2083 - val_accuracy: 0.9413 - val_tp: 0.0000e+00 - val_tn: 1203.0000 - val_fp: 0.0000e+00 - val_fn: 75.0000 - val_precision: 0.0000e+00 - val_recall: 0.0000e+00 - val_auc: 0.7244\n",
      "Epoch 32/100\n",
      "13/13 [==============================] - 0s 7ms/step - loss: 0.1603 - accuracy: 0.9546 - tp: 0.0000e+00 - tn: 3658.0000 - fp: 0.0000e+00 - fn: 174.0000 - precision: 0.0000e+00 - recall: 0.0000e+00 - auc: 0.7871 - val_loss: 0.2078 - val_accuracy: 0.9413 - val_tp: 0.0000e+00 - val_tn: 1203.0000 - val_fp: 0.0000e+00 - val_fn: 75.0000 - val_precision: 0.0000e+00 - val_recall: 0.0000e+00 - val_auc: 0.7260\n",
      "Epoch 33/100\n",
      "13/13 [==============================] - 0s 7ms/step - loss: 0.1594 - accuracy: 0.9546 - tp: 0.0000e+00 - tn: 3658.0000 - fp: 0.0000e+00 - fn: 174.0000 - precision: 0.0000e+00 - recall: 0.0000e+00 - auc: 0.7906 - val_loss: 0.2076 - val_accuracy: 0.9413 - val_tp: 0.0000e+00 - val_tn: 1203.0000 - val_fp: 0.0000e+00 - val_fn: 75.0000 - val_precision: 0.0000e+00 - val_recall: 0.0000e+00 - val_auc: 0.7310\n",
      "Epoch 34/100\n",
      "13/13 [==============================] - 0s 7ms/step - loss: 0.1587 - accuracy: 0.9546 - tp: 0.0000e+00 - tn: 3658.0000 - fp: 0.0000e+00 - fn: 174.0000 - precision: 0.0000e+00 - recall: 0.0000e+00 - auc: 0.7952 - val_loss: 0.2074 - val_accuracy: 0.9413 - val_tp: 0.0000e+00 - val_tn: 1203.0000 - val_fp: 0.0000e+00 - val_fn: 75.0000 - val_precision: 0.0000e+00 - val_recall: 0.0000e+00 - val_auc: 0.7316\n",
      "Epoch 35/100\n",
      "13/13 [==============================] - 0s 7ms/step - loss: 0.1580 - accuracy: 0.9546 - tp: 0.0000e+00 - tn: 3658.0000 - fp: 0.0000e+00 - fn: 174.0000 - precision: 0.0000e+00 - recall: 0.0000e+00 - auc: 0.7966 - val_loss: 0.2067 - val_accuracy: 0.9413 - val_tp: 0.0000e+00 - val_tn: 1203.0000 - val_fp: 0.0000e+00 - val_fn: 75.0000 - val_precision: 0.0000e+00 - val_recall: 0.0000e+00 - val_auc: 0.7360\n",
      "Epoch 36/100\n",
      "13/13 [==============================] - 0s 7ms/step - loss: 0.1574 - accuracy: 0.9546 - tp: 0.0000e+00 - tn: 3658.0000 - fp: 0.0000e+00 - fn: 174.0000 - precision: 0.0000e+00 - recall: 0.0000e+00 - auc: 0.7988 - val_loss: 0.2062 - val_accuracy: 0.9413 - val_tp: 0.0000e+00 - val_tn: 1203.0000 - val_fp: 0.0000e+00 - val_fn: 75.0000 - val_precision: 0.0000e+00 - val_recall: 0.0000e+00 - val_auc: 0.7405\n",
      "Epoch 37/100\n",
      "13/13 [==============================] - 0s 7ms/step - loss: 0.1567 - accuracy: 0.9546 - tp: 0.0000e+00 - tn: 3658.0000 - fp: 0.0000e+00 - fn: 174.0000 - precision: 0.0000e+00 - recall: 0.0000e+00 - auc: 0.8022 - val_loss: 0.2060 - val_accuracy: 0.9413 - val_tp: 0.0000e+00 - val_tn: 1203.0000 - val_fp: 0.0000e+00 - val_fn: 75.0000 - val_precision: 0.0000e+00 - val_recall: 0.0000e+00 - val_auc: 0.7391\n",
      "Epoch 38/100\n",
      "13/13 [==============================] - 0s 8ms/step - loss: 0.1561 - accuracy: 0.9546 - tp: 0.0000e+00 - tn: 3658.0000 - fp: 0.0000e+00 - fn: 174.0000 - precision: 0.0000e+00 - recall: 0.0000e+00 - auc: 0.8048 - val_loss: 0.2060 - val_accuracy: 0.9413 - val_tp: 0.0000e+00 - val_tn: 1203.0000 - val_fp: 0.0000e+00 - val_fn: 75.0000 - val_precision: 0.0000e+00 - val_recall: 0.0000e+00 - val_auc: 0.7409\n",
      "Epoch 39/100\n",
      "13/13 [==============================] - 0s 7ms/step - loss: 0.1555 - accuracy: 0.9546 - tp: 0.0000e+00 - tn: 3658.0000 - fp: 0.0000e+00 - fn: 174.0000 - precision: 0.0000e+00 - recall: 0.0000e+00 - auc: 0.8060 - val_loss: 0.2057 - val_accuracy: 0.9413 - val_tp: 0.0000e+00 - val_tn: 1203.0000 - val_fp: 0.0000e+00 - val_fn: 75.0000 - val_precision: 0.0000e+00 - val_recall: 0.0000e+00 - val_auc: 0.7445\n",
      "Epoch 40/100\n",
      "13/13 [==============================] - 0s 7ms/step - loss: 0.1550 - accuracy: 0.9543 - tp: 0.0000e+00 - tn: 3657.0000 - fp: 1.0000 - fn: 174.0000 - precision: 0.0000e+00 - recall: 0.0000e+00 - auc: 0.8084 - val_loss: 0.2056 - val_accuracy: 0.9413 - val_tp: 0.0000e+00 - val_tn: 1203.0000 - val_fp: 0.0000e+00 - val_fn: 75.0000 - val_precision: 0.0000e+00 - val_recall: 0.0000e+00 - val_auc: 0.7450\n",
      "Epoch 41/100\n",
      "13/13 [==============================] - 0s 7ms/step - loss: 0.1545 - accuracy: 0.9543 - tp: 0.0000e+00 - tn: 3657.0000 - fp: 1.0000 - fn: 174.0000 - precision: 0.0000e+00 - recall: 0.0000e+00 - auc: 0.8119 - val_loss: 0.2055 - val_accuracy: 0.9413 - val_tp: 0.0000e+00 - val_tn: 1203.0000 - val_fp: 0.0000e+00 - val_fn: 75.0000 - val_precision: 0.0000e+00 - val_recall: 0.0000e+00 - val_auc: 0.7477\n",
      "Epoch 42/100\n",
      "13/13 [==============================] - 0s 8ms/step - loss: 0.1539 - accuracy: 0.9543 - tp: 0.0000e+00 - tn: 3657.0000 - fp: 1.0000 - fn: 174.0000 - precision: 0.0000e+00 - recall: 0.0000e+00 - auc: 0.8133 - val_loss: 0.2053 - val_accuracy: 0.9413 - val_tp: 0.0000e+00 - val_tn: 1203.0000 - val_fp: 0.0000e+00 - val_fn: 75.0000 - val_precision: 0.0000e+00 - val_recall: 0.0000e+00 - val_auc: 0.7494\n",
      "Epoch 43/100\n",
      "13/13 [==============================] - 0s 7ms/step - loss: 0.1534 - accuracy: 0.9543 - tp: 0.0000e+00 - tn: 3657.0000 - fp: 1.0000 - fn: 174.0000 - precision: 0.0000e+00 - recall: 0.0000e+00 - auc: 0.8160 - val_loss: 0.2051 - val_accuracy: 0.9413 - val_tp: 0.0000e+00 - val_tn: 1203.0000 - val_fp: 0.0000e+00 - val_fn: 75.0000 - val_precision: 0.0000e+00 - val_recall: 0.0000e+00 - val_auc: 0.7510\n",
      "Epoch 44/100\n",
      "13/13 [==============================] - 0s 7ms/step - loss: 0.1529 - accuracy: 0.9543 - tp: 0.0000e+00 - tn: 3657.0000 - fp: 1.0000 - fn: 174.0000 - precision: 0.0000e+00 - recall: 0.0000e+00 - auc: 0.8180 - val_loss: 0.2048 - val_accuracy: 0.9413 - val_tp: 0.0000e+00 - val_tn: 1203.0000 - val_fp: 0.0000e+00 - val_fn: 75.0000 - val_precision: 0.0000e+00 - val_recall: 0.0000e+00 - val_auc: 0.7525\n",
      "Epoch 45/100\n",
      "13/13 [==============================] - 0s 7ms/step - loss: 0.1524 - accuracy: 0.9543 - tp: 0.0000e+00 - tn: 3657.0000 - fp: 1.0000 - fn: 174.0000 - precision: 0.0000e+00 - recall: 0.0000e+00 - auc: 0.8192 - val_loss: 0.2045 - val_accuracy: 0.9413 - val_tp: 0.0000e+00 - val_tn: 1203.0000 - val_fp: 0.0000e+00 - val_fn: 75.0000 - val_precision: 0.0000e+00 - val_recall: 0.0000e+00 - val_auc: 0.7550\n",
      "Epoch 46/100\n",
      "13/13 [==============================] - 0s 7ms/step - loss: 0.1519 - accuracy: 0.9543 - tp: 0.0000e+00 - tn: 3657.0000 - fp: 1.0000 - fn: 174.0000 - precision: 0.0000e+00 - recall: 0.0000e+00 - auc: 0.8210 - val_loss: 0.2043 - val_accuracy: 0.9413 - val_tp: 0.0000e+00 - val_tn: 1203.0000 - val_fp: 0.0000e+00 - val_fn: 75.0000 - val_precision: 0.0000e+00 - val_recall: 0.0000e+00 - val_auc: 0.7560\n",
      "Epoch 47/100\n",
      "13/13 [==============================] - 0s 8ms/step - loss: 0.1515 - accuracy: 0.9543 - tp: 0.0000e+00 - tn: 3657.0000 - fp: 1.0000 - fn: 174.0000 - precision: 0.0000e+00 - recall: 0.0000e+00 - auc: 0.8240 - val_loss: 0.2048 - val_accuracy: 0.9413 - val_tp: 0.0000e+00 - val_tn: 1203.0000 - val_fp: 0.0000e+00 - val_fn: 75.0000 - val_precision: 0.0000e+00 - val_recall: 0.0000e+00 - val_auc: 0.7562\n",
      "Epoch 48/100\n",
      "13/13 [==============================] - 0s 8ms/step - loss: 0.1510 - accuracy: 0.9543 - tp: 0.0000e+00 - tn: 3657.0000 - fp: 1.0000 - fn: 174.0000 - precision: 0.0000e+00 - recall: 0.0000e+00 - auc: 0.8257 - val_loss: 0.2044 - val_accuracy: 0.9413 - val_tp: 0.0000e+00 - val_tn: 1203.0000 - val_fp: 0.0000e+00 - val_fn: 75.0000 - val_precision: 0.0000e+00 - val_recall: 0.0000e+00 - val_auc: 0.7579\n",
      "Epoch 49/100\n",
      "13/13 [==============================] - 0s 7ms/step - loss: 0.1505 - accuracy: 0.9543 - tp: 0.0000e+00 - tn: 3657.0000 - fp: 1.0000 - fn: 174.0000 - precision: 0.0000e+00 - recall: 0.0000e+00 - auc: 0.8284 - val_loss: 0.2041 - val_accuracy: 0.9413 - val_tp: 0.0000e+00 - val_tn: 1203.0000 - val_fp: 0.0000e+00 - val_fn: 75.0000 - val_precision: 0.0000e+00 - val_recall: 0.0000e+00 - val_auc: 0.7593\n",
      "Epoch 50/100\n",
      "13/13 [==============================] - 0s 8ms/step - loss: 0.1501 - accuracy: 0.9543 - tp: 0.0000e+00 - tn: 3657.0000 - fp: 1.0000 - fn: 174.0000 - precision: 0.0000e+00 - recall: 0.0000e+00 - auc: 0.8300 - val_loss: 0.2042 - val_accuracy: 0.9413 - val_tp: 0.0000e+00 - val_tn: 1203.0000 - val_fp: 0.0000e+00 - val_fn: 75.0000 - val_precision: 0.0000e+00 - val_recall: 0.0000e+00 - val_auc: 0.7598\n",
      "Epoch 51/100\n",
      "13/13 [==============================] - 0s 7ms/step - loss: 0.1497 - accuracy: 0.9543 - tp: 0.0000e+00 - tn: 3657.0000 - fp: 1.0000 - fn: 174.0000 - precision: 0.0000e+00 - recall: 0.0000e+00 - auc: 0.8316 - val_loss: 0.2043 - val_accuracy: 0.9413 - val_tp: 0.0000e+00 - val_tn: 1203.0000 - val_fp: 0.0000e+00 - val_fn: 75.0000 - val_precision: 0.0000e+00 - val_recall: 0.0000e+00 - val_auc: 0.7600\n",
      "Epoch 52/100\n",
      "13/13 [==============================] - 0s 7ms/step - loss: 0.1494 - accuracy: 0.9543 - tp: 0.0000e+00 - tn: 3657.0000 - fp: 1.0000 - fn: 174.0000 - precision: 0.0000e+00 - recall: 0.0000e+00 - auc: 0.8333 - val_loss: 0.2038 - val_accuracy: 0.9413 - val_tp: 0.0000e+00 - val_tn: 1203.0000 - val_fp: 0.0000e+00 - val_fn: 75.0000 - val_precision: 0.0000e+00 - val_recall: 0.0000e+00 - val_auc: 0.7614\n",
      "Epoch 53/100\n",
      "13/13 [==============================] - 0s 7ms/step - loss: 0.1489 - accuracy: 0.9543 - tp: 0.0000e+00 - tn: 3657.0000 - fp: 1.0000 - fn: 174.0000 - precision: 0.0000e+00 - recall: 0.0000e+00 - auc: 0.8349 - val_loss: 0.2038 - val_accuracy: 0.9413 - val_tp: 0.0000e+00 - val_tn: 1203.0000 - val_fp: 0.0000e+00 - val_fn: 75.0000 - val_precision: 0.0000e+00 - val_recall: 0.0000e+00 - val_auc: 0.7625\n",
      "Epoch 54/100\n",
      "13/13 [==============================] - 0s 8ms/step - loss: 0.1486 - accuracy: 0.9543 - tp: 0.0000e+00 - tn: 3657.0000 - fp: 1.0000 - fn: 174.0000 - precision: 0.0000e+00 - recall: 0.0000e+00 - auc: 0.8356 - val_loss: 0.2041 - val_accuracy: 0.9413 - val_tp: 0.0000e+00 - val_tn: 1203.0000 - val_fp: 0.0000e+00 - val_fn: 75.0000 - val_precision: 0.0000e+00 - val_recall: 0.0000e+00 - val_auc: 0.7618\n",
      "Epoch 55/100\n",
      "13/13 [==============================] - 0s 9ms/step - loss: 0.1482 - accuracy: 0.9543 - tp: 0.0000e+00 - tn: 3657.0000 - fp: 1.0000 - fn: 174.0000 - precision: 0.0000e+00 - recall: 0.0000e+00 - auc: 0.8373 - val_loss: 0.2037 - val_accuracy: 0.9413 - val_tp: 0.0000e+00 - val_tn: 1203.0000 - val_fp: 0.0000e+00 - val_fn: 75.0000 - val_precision: 0.0000e+00 - val_recall: 0.0000e+00 - val_auc: 0.7626\n",
      "Epoch 56/100\n",
      "13/13 [==============================] - 0s 7ms/step - loss: 0.1479 - accuracy: 0.9543 - tp: 0.0000e+00 - tn: 3657.0000 - fp: 1.0000 - fn: 174.0000 - precision: 0.0000e+00 - recall: 0.0000e+00 - auc: 0.8383 - val_loss: 0.2039 - val_accuracy: 0.9413 - val_tp: 0.0000e+00 - val_tn: 1203.0000 - val_fp: 0.0000e+00 - val_fn: 75.0000 - val_precision: 0.0000e+00 - val_recall: 0.0000e+00 - val_auc: 0.7626\n",
      "Epoch 57/100\n",
      "13/13 [==============================] - 0s 7ms/step - loss: 0.1475 - accuracy: 0.9543 - tp: 0.0000e+00 - tn: 3657.0000 - fp: 1.0000 - fn: 174.0000 - precision: 0.0000e+00 - recall: 0.0000e+00 - auc: 0.8398 - val_loss: 0.2039 - val_accuracy: 0.9413 - val_tp: 0.0000e+00 - val_tn: 1203.0000 - val_fp: 0.0000e+00 - val_fn: 75.0000 - val_precision: 0.0000e+00 - val_recall: 0.0000e+00 - val_auc: 0.7622\n",
      "Epoch 58/100\n",
      "13/13 [==============================] - 0s 8ms/step - loss: 0.1472 - accuracy: 0.9543 - tp: 0.0000e+00 - tn: 3657.0000 - fp: 1.0000 - fn: 174.0000 - precision: 0.0000e+00 - recall: 0.0000e+00 - auc: 0.8404 - val_loss: 0.2035 - val_accuracy: 0.9413 - val_tp: 0.0000e+00 - val_tn: 1203.0000 - val_fp: 0.0000e+00 - val_fn: 75.0000 - val_precision: 0.0000e+00 - val_recall: 0.0000e+00 - val_auc: 0.7641\n",
      "Epoch 59/100\n",
      "13/13 [==============================] - 0s 7ms/step - loss: 0.1468 - accuracy: 0.9543 - tp: 0.0000e+00 - tn: 3657.0000 - fp: 1.0000 - fn: 174.0000 - precision: 0.0000e+00 - recall: 0.0000e+00 - auc: 0.8424 - val_loss: 0.2034 - val_accuracy: 0.9413 - val_tp: 0.0000e+00 - val_tn: 1203.0000 - val_fp: 0.0000e+00 - val_fn: 75.0000 - val_precision: 0.0000e+00 - val_recall: 0.0000e+00 - val_auc: 0.7661\n",
      "Epoch 60/100\n",
      "13/13 [==============================] - 0s 7ms/step - loss: 0.1465 - accuracy: 0.9543 - tp: 0.0000e+00 - tn: 3657.0000 - fp: 1.0000 - fn: 174.0000 - precision: 0.0000e+00 - recall: 0.0000e+00 - auc: 0.8439 - val_loss: 0.2030 - val_accuracy: 0.9413 - val_tp: 0.0000e+00 - val_tn: 1203.0000 - val_fp: 0.0000e+00 - val_fn: 75.0000 - val_precision: 0.0000e+00 - val_recall: 0.0000e+00 - val_auc: 0.7673\n",
      "Epoch 61/100\n",
      "13/13 [==============================] - 0s 8ms/step - loss: 0.1462 - accuracy: 0.9543 - tp: 0.0000e+00 - tn: 3657.0000 - fp: 1.0000 - fn: 174.0000 - precision: 0.0000e+00 - recall: 0.0000e+00 - auc: 0.8443 - val_loss: 0.2032 - val_accuracy: 0.9413 - val_tp: 0.0000e+00 - val_tn: 1203.0000 - val_fp: 0.0000e+00 - val_fn: 75.0000 - val_precision: 0.0000e+00 - val_recall: 0.0000e+00 - val_auc: 0.7693\n",
      "Epoch 62/100\n",
      "13/13 [==============================] - 0s 8ms/step - loss: 0.1460 - accuracy: 0.9543 - tp: 0.0000e+00 - tn: 3657.0000 - fp: 1.0000 - fn: 174.0000 - precision: 0.0000e+00 - recall: 0.0000e+00 - auc: 0.8447 - val_loss: 0.2031 - val_accuracy: 0.9413 - val_tp: 0.0000e+00 - val_tn: 1203.0000 - val_fp: 0.0000e+00 - val_fn: 75.0000 - val_precision: 0.0000e+00 - val_recall: 0.0000e+00 - val_auc: 0.7692\n",
      "Epoch 63/100\n",
      "13/13 [==============================] - 0s 10ms/step - loss: 0.1457 - accuracy: 0.9543 - tp: 0.0000e+00 - tn: 3657.0000 - fp: 1.0000 - fn: 174.0000 - precision: 0.0000e+00 - recall: 0.0000e+00 - auc: 0.8461 - val_loss: 0.2031 - val_accuracy: 0.9413 - val_tp: 0.0000e+00 - val_tn: 1203.0000 - val_fp: 0.0000e+00 - val_fn: 75.0000 - val_precision: 0.0000e+00 - val_recall: 0.0000e+00 - val_auc: 0.7708\n",
      "Epoch 64/100\n",
      "13/13 [==============================] - 0s 7ms/step - loss: 0.1454 - accuracy: 0.9543 - tp: 0.0000e+00 - tn: 3657.0000 - fp: 1.0000 - fn: 174.0000 - precision: 0.0000e+00 - recall: 0.0000e+00 - auc: 0.8472 - val_loss: 0.2026 - val_accuracy: 0.9413 - val_tp: 0.0000e+00 - val_tn: 1203.0000 - val_fp: 0.0000e+00 - val_fn: 75.0000 - val_precision: 0.0000e+00 - val_recall: 0.0000e+00 - val_auc: 0.7704\n",
      "Epoch 65/100\n",
      "13/13 [==============================] - 0s 8ms/step - loss: 0.1451 - accuracy: 0.9543 - tp: 0.0000e+00 - tn: 3657.0000 - fp: 1.0000 - fn: 174.0000 - precision: 0.0000e+00 - recall: 0.0000e+00 - auc: 0.8481 - val_loss: 0.2024 - val_accuracy: 0.9413 - val_tp: 0.0000e+00 - val_tn: 1203.0000 - val_fp: 0.0000e+00 - val_fn: 75.0000 - val_precision: 0.0000e+00 - val_recall: 0.0000e+00 - val_auc: 0.7733\n",
      "Epoch 66/100\n",
      "13/13 [==============================] - 0s 7ms/step - loss: 0.1448 - accuracy: 0.9543 - tp: 0.0000e+00 - tn: 3657.0000 - fp: 1.0000 - fn: 174.0000 - precision: 0.0000e+00 - recall: 0.0000e+00 - auc: 0.8483 - val_loss: 0.2022 - val_accuracy: 0.9413 - val_tp: 0.0000e+00 - val_tn: 1203.0000 - val_fp: 0.0000e+00 - val_fn: 75.0000 - val_precision: 0.0000e+00 - val_recall: 0.0000e+00 - val_auc: 0.7731\n",
      "Epoch 67/100\n",
      "13/13 [==============================] - 0s 7ms/step - loss: 0.1445 - accuracy: 0.9543 - tp: 0.0000e+00 - tn: 3657.0000 - fp: 1.0000 - fn: 174.0000 - precision: 0.0000e+00 - recall: 0.0000e+00 - auc: 0.8500 - val_loss: 0.2023 - val_accuracy: 0.9413 - val_tp: 0.0000e+00 - val_tn: 1203.0000 - val_fp: 0.0000e+00 - val_fn: 75.0000 - val_precision: 0.0000e+00 - val_recall: 0.0000e+00 - val_auc: 0.7739\n",
      "Epoch 68/100\n",
      "13/13 [==============================] - 0s 8ms/step - loss: 0.1443 - accuracy: 0.9543 - tp: 0.0000e+00 - tn: 3657.0000 - fp: 1.0000 - fn: 174.0000 - precision: 0.0000e+00 - recall: 0.0000e+00 - auc: 0.8510 - val_loss: 0.2016 - val_accuracy: 0.9413 - val_tp: 0.0000e+00 - val_tn: 1203.0000 - val_fp: 0.0000e+00 - val_fn: 75.0000 - val_precision: 0.0000e+00 - val_recall: 0.0000e+00 - val_auc: 0.7763\n",
      "Epoch 69/100\n",
      "13/13 [==============================] - 0s 7ms/step - loss: 0.1440 - accuracy: 0.9543 - tp: 0.0000e+00 - tn: 3657.0000 - fp: 1.0000 - fn: 174.0000 - precision: 0.0000e+00 - recall: 0.0000e+00 - auc: 0.8519 - val_loss: 0.2016 - val_accuracy: 0.9413 - val_tp: 0.0000e+00 - val_tn: 1203.0000 - val_fp: 0.0000e+00 - val_fn: 75.0000 - val_precision: 0.0000e+00 - val_recall: 0.0000e+00 - val_auc: 0.7764\n",
      "Epoch 70/100\n",
      "13/13 [==============================] - 0s 7ms/step - loss: 0.1437 - accuracy: 0.9543 - tp: 0.0000e+00 - tn: 3657.0000 - fp: 1.0000 - fn: 174.0000 - precision: 0.0000e+00 - recall: 0.0000e+00 - auc: 0.8523 - val_loss: 0.2015 - val_accuracy: 0.9413 - val_tp: 0.0000e+00 - val_tn: 1203.0000 - val_fp: 0.0000e+00 - val_fn: 75.0000 - val_precision: 0.0000e+00 - val_recall: 0.0000e+00 - val_auc: 0.7771\n",
      "Epoch 71/100\n",
      "13/13 [==============================] - 0s 7ms/step - loss: 0.1435 - accuracy: 0.9543 - tp: 0.0000e+00 - tn: 3657.0000 - fp: 1.0000 - fn: 174.0000 - precision: 0.0000e+00 - recall: 0.0000e+00 - auc: 0.8537 - val_loss: 0.2016 - val_accuracy: 0.9413 - val_tp: 0.0000e+00 - val_tn: 1203.0000 - val_fp: 0.0000e+00 - val_fn: 75.0000 - val_precision: 0.0000e+00 - val_recall: 0.0000e+00 - val_auc: 0.7781\n",
      "Epoch 72/100\n",
      "13/13 [==============================] - 0s 7ms/step - loss: 0.1432 - accuracy: 0.9543 - tp: 0.0000e+00 - tn: 3657.0000 - fp: 1.0000 - fn: 174.0000 - precision: 0.0000e+00 - recall: 0.0000e+00 - auc: 0.8550 - val_loss: 0.2018 - val_accuracy: 0.9413 - val_tp: 0.0000e+00 - val_tn: 1203.0000 - val_fp: 0.0000e+00 - val_fn: 75.0000 - val_precision: 0.0000e+00 - val_recall: 0.0000e+00 - val_auc: 0.7777\n",
      "Epoch 73/100\n",
      "13/13 [==============================] - 0s 7ms/step - loss: 0.1429 - accuracy: 0.9543 - tp: 0.0000e+00 - tn: 3657.0000 - fp: 1.0000 - fn: 174.0000 - precision: 0.0000e+00 - recall: 0.0000e+00 - auc: 0.8554 - val_loss: 0.2015 - val_accuracy: 0.9413 - val_tp: 0.0000e+00 - val_tn: 1203.0000 - val_fp: 0.0000e+00 - val_fn: 75.0000 - val_precision: 0.0000e+00 - val_recall: 0.0000e+00 - val_auc: 0.7772\n",
      "Epoch 74/100\n",
      "13/13 [==============================] - 0s 8ms/step - loss: 0.1427 - accuracy: 0.9543 - tp: 0.0000e+00 - tn: 3657.0000 - fp: 1.0000 - fn: 174.0000 - precision: 0.0000e+00 - recall: 0.0000e+00 - auc: 0.8554 - val_loss: 0.2016 - val_accuracy: 0.9413 - val_tp: 0.0000e+00 - val_tn: 1203.0000 - val_fp: 0.0000e+00 - val_fn: 75.0000 - val_precision: 0.0000e+00 - val_recall: 0.0000e+00 - val_auc: 0.7781\n",
      "Epoch 75/100\n",
      "13/13 [==============================] - 0s 7ms/step - loss: 0.1424 - accuracy: 0.9543 - tp: 0.0000e+00 - tn: 3657.0000 - fp: 1.0000 - fn: 174.0000 - precision: 0.0000e+00 - recall: 0.0000e+00 - auc: 0.8561 - val_loss: 0.2020 - val_accuracy: 0.9413 - val_tp: 0.0000e+00 - val_tn: 1203.0000 - val_fp: 0.0000e+00 - val_fn: 75.0000 - val_precision: 0.0000e+00 - val_recall: 0.0000e+00 - val_auc: 0.7786\n",
      "Epoch 76/100\n",
      "13/13 [==============================] - 0s 7ms/step - loss: 0.1422 - accuracy: 0.9543 - tp: 0.0000e+00 - tn: 3657.0000 - fp: 1.0000 - fn: 174.0000 - precision: 0.0000e+00 - recall: 0.0000e+00 - auc: 0.8570 - val_loss: 0.2022 - val_accuracy: 0.9413 - val_tp: 0.0000e+00 - val_tn: 1203.0000 - val_fp: 0.0000e+00 - val_fn: 75.0000 - val_precision: 0.0000e+00 - val_recall: 0.0000e+00 - val_auc: 0.7764\n",
      "Epoch 77/100\n",
      "13/13 [==============================] - 0s 7ms/step - loss: 0.1420 - accuracy: 0.9543 - tp: 0.0000e+00 - tn: 3657.0000 - fp: 1.0000 - fn: 174.0000 - precision: 0.0000e+00 - recall: 0.0000e+00 - auc: 0.8576 - val_loss: 0.2021 - val_accuracy: 0.9413 - val_tp: 0.0000e+00 - val_tn: 1203.0000 - val_fp: 0.0000e+00 - val_fn: 75.0000 - val_precision: 0.0000e+00 - val_recall: 0.0000e+00 - val_auc: 0.7778\n",
      "Epoch 78/100\n",
      "13/13 [==============================] - 0s 7ms/step - loss: 0.1418 - accuracy: 0.9546 - tp: 1.0000 - tn: 3657.0000 - fp: 1.0000 - fn: 173.0000 - precision: 0.5000 - recall: 0.0057 - auc: 0.8587 - val_loss: 0.2020 - val_accuracy: 0.9413 - val_tp: 0.0000e+00 - val_tn: 1203.0000 - val_fp: 0.0000e+00 - val_fn: 75.0000 - val_precision: 0.0000e+00 - val_recall: 0.0000e+00 - val_auc: 0.7768\n",
      "Epoch 79/100\n",
      "13/13 [==============================] - 0s 8ms/step - loss: 0.1416 - accuracy: 0.9546 - tp: 1.0000 - tn: 3657.0000 - fp: 1.0000 - fn: 173.0000 - precision: 0.5000 - recall: 0.0057 - auc: 0.8599 - val_loss: 0.2018 - val_accuracy: 0.9413 - val_tp: 0.0000e+00 - val_tn: 1203.0000 - val_fp: 0.0000e+00 - val_fn: 75.0000 - val_precision: 0.0000e+00 - val_recall: 0.0000e+00 - val_auc: 0.7771\n",
      "Epoch 80/100\n",
      "13/13 [==============================] - 0s 8ms/step - loss: 0.1413 - accuracy: 0.9546 - tp: 1.0000 - tn: 3657.0000 - fp: 1.0000 - fn: 173.0000 - precision: 0.5000 - recall: 0.0057 - auc: 0.8605 - val_loss: 0.2017 - val_accuracy: 0.9413 - val_tp: 0.0000e+00 - val_tn: 1203.0000 - val_fp: 0.0000e+00 - val_fn: 75.0000 - val_precision: 0.0000e+00 - val_recall: 0.0000e+00 - val_auc: 0.7770\n",
      "Epoch 81/100\n",
      "13/13 [==============================] - 0s 8ms/step - loss: 0.1411 - accuracy: 0.9546 - tp: 1.0000 - tn: 3657.0000 - fp: 1.0000 - fn: 173.0000 - precision: 0.5000 - recall: 0.0057 - auc: 0.8609 - val_loss: 0.2018 - val_accuracy: 0.9413 - val_tp: 0.0000e+00 - val_tn: 1203.0000 - val_fp: 0.0000e+00 - val_fn: 75.0000 - val_precision: 0.0000e+00 - val_recall: 0.0000e+00 - val_auc: 0.7761\n",
      "Epoch 82/100\n",
      "13/13 [==============================] - 0s 7ms/step - loss: 0.1409 - accuracy: 0.9546 - tp: 1.0000 - tn: 3657.0000 - fp: 1.0000 - fn: 173.0000 - precision: 0.5000 - recall: 0.0057 - auc: 0.8617 - val_loss: 0.2016 - val_accuracy: 0.9413 - val_tp: 0.0000e+00 - val_tn: 1203.0000 - val_fp: 0.0000e+00 - val_fn: 75.0000 - val_precision: 0.0000e+00 - val_recall: 0.0000e+00 - val_auc: 0.7782\n",
      "Epoch 83/100\n",
      "13/13 [==============================] - 0s 8ms/step - loss: 0.1406 - accuracy: 0.9546 - tp: 1.0000 - tn: 3657.0000 - fp: 1.0000 - fn: 173.0000 - precision: 0.5000 - recall: 0.0057 - auc: 0.8620 - val_loss: 0.2018 - val_accuracy: 0.9413 - val_tp: 0.0000e+00 - val_tn: 1203.0000 - val_fp: 0.0000e+00 - val_fn: 75.0000 - val_precision: 0.0000e+00 - val_recall: 0.0000e+00 - val_auc: 0.7798\n",
      "Epoch 84/100\n",
      "13/13 [==============================] - 0s 8ms/step - loss: 0.1404 - accuracy: 0.9546 - tp: 1.0000 - tn: 3657.0000 - fp: 1.0000 - fn: 173.0000 - precision: 0.5000 - recall: 0.0057 - auc: 0.8637 - val_loss: 0.2019 - val_accuracy: 0.9413 - val_tp: 0.0000e+00 - val_tn: 1203.0000 - val_fp: 0.0000e+00 - val_fn: 75.0000 - val_precision: 0.0000e+00 - val_recall: 0.0000e+00 - val_auc: 0.7791\n",
      "Epoch 85/100\n",
      "13/13 [==============================] - 0s 7ms/step - loss: 0.1402 - accuracy: 0.9546 - tp: 1.0000 - tn: 3657.0000 - fp: 1.0000 - fn: 173.0000 - precision: 0.5000 - recall: 0.0057 - auc: 0.8635 - val_loss: 0.2016 - val_accuracy: 0.9413 - val_tp: 0.0000e+00 - val_tn: 1203.0000 - val_fp: 0.0000e+00 - val_fn: 75.0000 - val_precision: 0.0000e+00 - val_recall: 0.0000e+00 - val_auc: 0.7785\n",
      "Epoch 86/100\n",
      "13/13 [==============================] - 0s 8ms/step - loss: 0.1400 - accuracy: 0.9546 - tp: 1.0000 - tn: 3657.0000 - fp: 1.0000 - fn: 173.0000 - precision: 0.5000 - recall: 0.0057 - auc: 0.8639 - val_loss: 0.2016 - val_accuracy: 0.9413 - val_tp: 0.0000e+00 - val_tn: 1203.0000 - val_fp: 0.0000e+00 - val_fn: 75.0000 - val_precision: 0.0000e+00 - val_recall: 0.0000e+00 - val_auc: 0.7789\n",
      "Epoch 87/100\n",
      "13/13 [==============================] - 0s 7ms/step - loss: 0.1398 - accuracy: 0.9546 - tp: 1.0000 - tn: 3657.0000 - fp: 1.0000 - fn: 173.0000 - precision: 0.5000 - recall: 0.0057 - auc: 0.8649 - val_loss: 0.2023 - val_accuracy: 0.9413 - val_tp: 0.0000e+00 - val_tn: 1203.0000 - val_fp: 0.0000e+00 - val_fn: 75.0000 - val_precision: 0.0000e+00 - val_recall: 0.0000e+00 - val_auc: 0.7786\n",
      "Epoch 88/100\n",
      "13/13 [==============================] - 0s 7ms/step - loss: 0.1397 - accuracy: 0.9546 - tp: 1.0000 - tn: 3657.0000 - fp: 1.0000 - fn: 173.0000 - precision: 0.5000 - recall: 0.0057 - auc: 0.8637 - val_loss: 0.2021 - val_accuracy: 0.9413 - val_tp: 0.0000e+00 - val_tn: 1203.0000 - val_fp: 0.0000e+00 - val_fn: 75.0000 - val_precision: 0.0000e+00 - val_recall: 0.0000e+00 - val_auc: 0.7800\n",
      "Epoch 89/100\n",
      "13/13 [==============================] - 0s 8ms/step - loss: 0.1395 - accuracy: 0.9546 - tp: 1.0000 - tn: 3657.0000 - fp: 1.0000 - fn: 173.0000 - precision: 0.5000 - recall: 0.0057 - auc: 0.8659 - val_loss: 0.2013 - val_accuracy: 0.9413 - val_tp: 0.0000e+00 - val_tn: 1203.0000 - val_fp: 0.0000e+00 - val_fn: 75.0000 - val_precision: 0.0000e+00 - val_recall: 0.0000e+00 - val_auc: 0.7818\n",
      "Epoch 90/100\n",
      "13/13 [==============================] - 0s 7ms/step - loss: 0.1392 - accuracy: 0.9546 - tp: 1.0000 - tn: 3657.0000 - fp: 1.0000 - fn: 173.0000 - precision: 0.5000 - recall: 0.0057 - auc: 0.8655 - val_loss: 0.2013 - val_accuracy: 0.9413 - val_tp: 0.0000e+00 - val_tn: 1203.0000 - val_fp: 0.0000e+00 - val_fn: 75.0000 - val_precision: 0.0000e+00 - val_recall: 0.0000e+00 - val_auc: 0.7821\n",
      "Epoch 91/100\n",
      "13/13 [==============================] - 0s 7ms/step - loss: 0.1391 - accuracy: 0.9549 - tp: 2.0000 - tn: 3657.0000 - fp: 1.0000 - fn: 172.0000 - precision: 0.6667 - recall: 0.0115 - auc: 0.8662 - val_loss: 0.2016 - val_accuracy: 0.9413 - val_tp: 0.0000e+00 - val_tn: 1203.0000 - val_fp: 0.0000e+00 - val_fn: 75.0000 - val_precision: 0.0000e+00 - val_recall: 0.0000e+00 - val_auc: 0.7812\n",
      "Epoch 92/100\n",
      "13/13 [==============================] - 0s 7ms/step - loss: 0.1389 - accuracy: 0.9549 - tp: 2.0000 - tn: 3657.0000 - fp: 1.0000 - fn: 172.0000 - precision: 0.6667 - recall: 0.0115 - auc: 0.8662 - val_loss: 0.2019 - val_accuracy: 0.9413 - val_tp: 0.0000e+00 - val_tn: 1203.0000 - val_fp: 0.0000e+00 - val_fn: 75.0000 - val_precision: 0.0000e+00 - val_recall: 0.0000e+00 - val_auc: 0.7805\n",
      "Epoch 93/100\n",
      "13/13 [==============================] - 0s 8ms/step - loss: 0.1388 - accuracy: 0.9551 - tp: 3.0000 - tn: 3657.0000 - fp: 1.0000 - fn: 171.0000 - precision: 0.7500 - recall: 0.0172 - auc: 0.8663 - val_loss: 0.2015 - val_accuracy: 0.9413 - val_tp: 0.0000e+00 - val_tn: 1203.0000 - val_fp: 0.0000e+00 - val_fn: 75.0000 - val_precision: 0.0000e+00 - val_recall: 0.0000e+00 - val_auc: 0.7817\n",
      "Epoch 94/100\n",
      "13/13 [==============================] - 0s 7ms/step - loss: 0.1386 - accuracy: 0.9551 - tp: 3.0000 - tn: 3657.0000 - fp: 1.0000 - fn: 171.0000 - precision: 0.7500 - recall: 0.0172 - auc: 0.8674 - val_loss: 0.2020 - val_accuracy: 0.9413 - val_tp: 0.0000e+00 - val_tn: 1203.0000 - val_fp: 0.0000e+00 - val_fn: 75.0000 - val_precision: 0.0000e+00 - val_recall: 0.0000e+00 - val_auc: 0.7815\n",
      "Epoch 95/100\n",
      "13/13 [==============================] - 0s 9ms/step - loss: 0.1384 - accuracy: 0.9551 - tp: 3.0000 - tn: 3657.0000 - fp: 1.0000 - fn: 171.0000 - precision: 0.7500 - recall: 0.0172 - auc: 0.8658 - val_loss: 0.2020 - val_accuracy: 0.9413 - val_tp: 0.0000e+00 - val_tn: 1203.0000 - val_fp: 0.0000e+00 - val_fn: 75.0000 - val_precision: 0.0000e+00 - val_recall: 0.0000e+00 - val_auc: 0.7817\n",
      "Epoch 96/100\n",
      "13/13 [==============================] - 0s 7ms/step - loss: 0.1383 - accuracy: 0.9551 - tp: 3.0000 - tn: 3657.0000 - fp: 1.0000 - fn: 171.0000 - precision: 0.7500 - recall: 0.0172 - auc: 0.8679 - val_loss: 0.2012 - val_accuracy: 0.9413 - val_tp: 0.0000e+00 - val_tn: 1203.0000 - val_fp: 0.0000e+00 - val_fn: 75.0000 - val_precision: 0.0000e+00 - val_recall: 0.0000e+00 - val_auc: 0.7820\n",
      "Epoch 97/100\n",
      "13/13 [==============================] - 0s 8ms/step - loss: 0.1381 - accuracy: 0.9551 - tp: 3.0000 - tn: 3657.0000 - fp: 1.0000 - fn: 171.0000 - precision: 0.7500 - recall: 0.0172 - auc: 0.8676 - val_loss: 0.2015 - val_accuracy: 0.9413 - val_tp: 0.0000e+00 - val_tn: 1203.0000 - val_fp: 0.0000e+00 - val_fn: 75.0000 - val_precision: 0.0000e+00 - val_recall: 0.0000e+00 - val_auc: 0.7836\n",
      "Epoch 98/100\n",
      "13/13 [==============================] - 0s 7ms/step - loss: 0.1380 - accuracy: 0.9551 - tp: 3.0000 - tn: 3657.0000 - fp: 1.0000 - fn: 171.0000 - precision: 0.7500 - recall: 0.0172 - auc: 0.8681 - val_loss: 0.2018 - val_accuracy: 0.9413 - val_tp: 0.0000e+00 - val_tn: 1203.0000 - val_fp: 0.0000e+00 - val_fn: 75.0000 - val_precision: 0.0000e+00 - val_recall: 0.0000e+00 - val_auc: 0.7834\n",
      "Epoch 99/100\n",
      "13/13 [==============================] - 0s 9ms/step - loss: 0.1378 - accuracy: 0.9551 - tp: 3.0000 - tn: 3657.0000 - fp: 1.0000 - fn: 171.0000 - precision: 0.7500 - recall: 0.0172 - auc: 0.8672 - val_loss: 0.2022 - val_accuracy: 0.9413 - val_tp: 0.0000e+00 - val_tn: 1203.0000 - val_fp: 0.0000e+00 - val_fn: 75.0000 - val_precision: 0.0000e+00 - val_recall: 0.0000e+00 - val_auc: 0.7824\n",
      "Epoch 100/100\n",
      "13/13 [==============================] - 0s 7ms/step - loss: 0.1377 - accuracy: 0.9551 - tp: 3.0000 - tn: 3657.0000 - fp: 1.0000 - fn: 171.0000 - precision: 0.7500 - recall: 0.0172 - auc: 0.8679 - val_loss: 0.2023 - val_accuracy: 0.9413 - val_tp: 0.0000e+00 - val_tn: 1203.0000 - val_fp: 0.0000e+00 - val_fn: 75.0000 - val_precision: 0.0000e+00 - val_recall: 0.0000e+00 - val_auc: 0.7829\n"
     ]
    }
   ],
   "source": [
    "# Add in validation loss to select the number of epochs\n",
    "# Fit the model\n",
    "batch_size = 300\n",
    "epochs = 100\n",
    "training_history = nn.fit(\n",
    "    X_train,\n",
    "    y_train,\n",
    "    validation_data=(X_test, y_test),\n",
    "    epochs=epochs,\n",
    "    batch_size=batch_size,\n",
    "    verbose=1,\n",
    ")"
   ]
  },
  {
   "cell_type": "code",
   "execution_count": 511,
   "id": "635463d1-129c-4ef6-85dc-befa14c3b549",
   "metadata": {},
   "outputs": [
    {
     "data": {
      "text/plain": [
       "0    1203\n",
       "1      75\n",
       "Name: stroke, dtype: int64"
      ]
     },
     "metadata": {},
     "output_type": "display_data"
    }
   ],
   "source": [
    "display(y_test.value_counts())"
   ]
  },
  {
   "cell_type": "code",
   "execution_count": 512,
   "id": "c812b818-9a14-4f4b-9936-5b0c02b90f71",
   "metadata": {},
   "outputs": [
    {
     "name": "stdout",
     "output_type": "stream",
     "text": [
      "40/40 [==============================] - 0s 1ms/step\n",
      "              precision    recall  f1-score   support\n",
      "\n",
      "           0       0.96      0.94      0.95      1223\n",
      "           1       0.09      0.13      0.11        55\n",
      "\n",
      "    accuracy                           0.91      1278\n",
      "   macro avg       0.53      0.54      0.53      1278\n",
      "weighted avg       0.92      0.91      0.92      1278\n",
      "\n"
     ]
    }
   ],
   "source": [
    "# Import the classification_report method from sklearn\n",
    "from sklearn.metrics import classification_report\n",
    "\n",
    "# Predict classes using testing data\n",
    "y_predict_classes = (nn.predict(X_test) > 0.2).astype(\"int32\")\n",
    "\n",
    "# Display classification report\n",
    "print(classification_report(y_predict_classes, y_test))"
   ]
  },
  {
   "cell_type": "code",
   "execution_count": 513,
   "id": "732ec1e6-98a6-42f6-a213-5c3d03c03dec",
   "metadata": {},
   "outputs": [
    {
     "data": {
      "text/plain": [
       "<Axes: title={'center': 'Loss'}, xlabel='Epoch'>"
      ]
     },
     "execution_count": 513,
     "metadata": {},
     "output_type": "execute_result"
    },
    {
     "data": {
      "image/png": "[encoded data removed]",
      "text/plain": [
       "<Figure size 640x480 with 1 Axes>"
      ]
     },
     "metadata": {},
     "output_type": "display_data"
    }
   ],
   "source": [
    "loss_df = pd.DataFrame(\n",
    "    {\n",
    "        \"Epoch\": range(1, epochs + 1),\n",
    "        \"Train\": training_history.history[\"loss\"],\n",
    "        \"Val\": training_history.history[\"val_loss\"],\n",
    "    }\n",
    ")\n",
    "loss_df.set_index(\"Epoch\", inplace=True)\n",
    "loss_df.plot(title=\"Loss\")"
   ]
  },
  {
   "cell_type": "code",
   "execution_count": 514,
   "id": "07ffbce8-ade7-428c-bd45-a6284d60dcd6",
   "metadata": {},
   "outputs": [
    {
     "data": {
      "text/plain": [
       "<Axes: title={'center': 'Accuracy'}, xlabel='Epoch'>"
      ]
     },
     "execution_count": 514,
     "metadata": {},
     "output_type": "execute_result"
    },
    {
     "data": {
      "image/png": "[encoded data removed]",
      "text/plain": [
       "<Figure size 640x480 with 1 Axes>"
      ]
     },
     "metadata": {},
     "output_type": "display_data"
    }
   ],
   "source": [
    "# Plotting accuracy\n",
    "accuracy_df = pd.DataFrame(\n",
    "    {\n",
    "        \"Epoch\": range(1, epochs + 1),\n",
    "        \"Train\": training_history.history[\"accuracy\"],\n",
    "        \"Val\": training_history.history[\"val_accuracy\"],\n",
    "    }\n",
    ")\n",
    "accuracy_df.set_index(\"Epoch\", inplace=True)\n",
    "accuracy_df.plot(title=\"Accuracy\")"
   ]
  },
  {
   "cell_type": "code",
   "execution_count": 515,
   "id": "556b15ee-d128-46ce-8bc7-dd9f9b98dc7f",
   "metadata": {},
   "outputs": [
    {
     "data": {
      "text/plain": [
       "<Axes: title={'center': 'AUC'}, xlabel='Epoch'>"
      ]
     },
     "execution_count": 515,
     "metadata": {},
     "output_type": "execute_result"
    },
    {
     "data": {
      "image/png": "[encoded data removed]",
      "text/plain": [
       "<Figure size 640x480 with 1 Axes>"
      ]
     },
     "metadata": {},
     "output_type": "display_data"
    }
   ],
   "source": [
    "# Plotting AUC\n",
    "auc_df = pd.DataFrame(\n",
    "    {\n",
    "        \"Epoch\": range(1, epochs + 1),\n",
    "        \"Train\": training_history.history[\"auc\"],\n",
    "        \"Val\": training_history.history[\"val_auc\"],\n",
    "    }\n",
    ")\n",
    "auc_df.set_index(\"Epoch\", inplace=True)\n",
    "auc_df.plot(title=\"AUC\")"
   ]
  },
  {
   "cell_type": "code",
   "execution_count": 516,
   "id": "ee884550-a541-4ef6-873f-e81543df1b20",
   "metadata": {},
   "outputs": [],
   "source": [
    "# Import the roc_curve and auc metrics from sklearn\n",
    "from sklearn.metrics import roc_curve, auc"
   ]
  },
  {
   "cell_type": "code",
   "execution_count": 517,
   "id": "15f238e6-6b28-4b2c-a1f2-fded577e2809",
   "metadata": {},
   "outputs": [
    {
     "name": "stdout",
     "output_type": "stream",
     "text": [
      "77/77 [==============================] - 0s 2ms/step\n",
      "26/26 [==============================] - 0s 1ms/step\n"
     ]
    }
   ],
   "source": [
    "# Making predictions to feed the roc_curve module\n",
    "train_predictions = nn.predict(X_train, batch_size=50)\n",
    "test_predictions = nn.predict(X_test, batch_size=50)"
   ]
  },
  {
   "cell_type": "code",
   "execution_count": 518,
   "id": "a47fae5c-7a0a-4fcb-922f-69b15e71bb37",
   "metadata": {},
   "outputs": [],
   "source": [
    "# Calculate the ROC curve and AUC for the training set\n",
    "fpr_train, tpr_train, thresholds_train = roc_curve(y_train, train_predictions)\n",
    "auc_train = auc(fpr_train, tpr_train)\n",
    "auc_train = round(auc_train, 4)\n",
    "\n",
    "# Calculate the ROC curve and AUC for the testing set\n",
    "fpr_test, tpr_test, thresholds_test = roc_curve(y_test, test_predictions)\n",
    "auc_test = auc(fpr_test, tpr_test)\n",
    "auc_test = round(auc_test, 4)"
   ]
  },
  {
   "cell_type": "code",
   "execution_count": 519,
   "id": "ade471cd-c5a0-473d-becb-64139b3d3d75",
   "metadata": {},
   "outputs": [],
   "source": [
    "# Create a DataFrame with the fpr and tpr results\n",
    "roc_df_train = pd.DataFrame({\"FPR Train\": fpr_train, \"TPR Train\": tpr_train,})\n",
    "\n",
    "roc_df_test = pd.DataFrame({\"FPR Test\": fpr_test, \"TPR Test\": tpr_test,})"
   ]
  },
  {
   "cell_type": "code",
   "execution_count": 520,
   "id": "c0d8b449-773c-438e-898a-48f4006efa49",
   "metadata": {},
   "outputs": [
    {
     "data": {
      "text/plain": [
       "<Axes: title={'center': 'Test ROC Curve (AUC=0.7828)'}, xlabel='FPR Test'>"
      ]
     },
     "execution_count": 520,
     "metadata": {},
     "output_type": "execute_result"
    },
    {
     "data": {
      "image/png": "[encoded data removed]",
      "text/plain": [
       "<Figure size 640x480 with 1 Axes>"
      ]
     },
     "metadata": {},
     "output_type": "display_data"
    },
    {
     "data": {
      "image/png": "[encoded data removed]",
      "text/plain": [
       "<Figure size 640x480 with 1 Axes>"
      ]
     },
     "metadata": {},
     "output_type": "display_data"
    }
   ],
   "source": [
    "# Plotting the ROC Curves\n",
    "roc_df_train.plot(\n",
    "    x=\"FPR Train\",\n",
    "    y=\"TPR Train\",\n",
    "    xlim=([-0.05, 1.05]),\n",
    "    title=f\"Train ROC Curve (AUC={auc_train})\",\n",
    ")\n",
    "\n",
    "roc_df_test.plot(\n",
    "    x=\"FPR Test\",\n",
    "    y=\"TPR Test\",\n",
    "    color=\"red\",\n",
    "    style=\"--\",\n",
    "    xlim=([-0.05, 1.05]),\n",
    "    title=f\"Test ROC Curve (AUC={auc_test})\",\n",
    ")"
   ]
  },
  {
   "cell_type": "code",
   "execution_count": 521,
   "id": "d2b3efa8-d416-4d7a-85cb-1029cc369386",
   "metadata": {},
   "outputs": [
    {
     "data": {
      "text/plain": [
       "{'loss': 0.20225973427295685,\n",
       " 'accuracy': 0.9413145780563354,\n",
       " 'tp': 0.0,\n",
       " 'tn': 1203.0,\n",
       " 'fp': 0.0,\n",
       " 'fn': 75.0,\n",
       " 'precision': 0.0,\n",
       " 'recall': 0.0,\n",
       " 'auc': 0.7828651070594788}"
      ]
     },
     "metadata": {},
     "output_type": "display_data"
    }
   ],
   "source": [
    "# Evaluate the model\n",
    "scores = nn.evaluate(X_test, y_test, verbose=0)\n",
    "\n",
    "# Define metrics dictionary\n",
    "metrics = {k: v for k, v in zip(nn.metrics_names, scores)}\n",
    "\n",
    "# Display evaluation metrics results\n",
    "display(metrics)"
   ]
  },
  {
   "cell_type": "code",
   "execution_count": null,
   "id": "7b054f85-d146-47d1-b819-b6dea8dd26e8",
   "metadata": {},
   "outputs": [],
   "source": []
  }
 ],
 "metadata": {
  "kernelspec": {
   "display_name": "Python 3 (ipykernel)",
   "language": "python",
   "name": "python3"
  },
  "language_info": {
   "codemirror_mode": {
    "name": "ipython",
    "version": 3
   },
   "file_extension": ".py",
   "mimetype": "text/x-python",
   "name": "python",
   "nbconvert_exporter": "python",
   "pygments_lexer": "ipython3",
   "version": "3.10.9"
  }
 },
 "nbformat": 4,
 "nbformat_minor": 5
}
